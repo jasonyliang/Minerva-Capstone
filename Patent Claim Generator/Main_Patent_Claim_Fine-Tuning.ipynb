{
  "nbformat": 4,
  "nbformat_minor": 0,
  "metadata": {
    "colab": {
      "name": "Patent Claim Generation.ipynb",
      "provenance": []
    },
    "kernelspec": {
      "name": "python3",
      "display_name": "Python 3"
    },
    "accelerator": "GPU"
  },
  "cells": [
    {
      "cell_type": "code",
      "metadata": {
        "id": "taV5X5MYJJNx",
        "outputId": "0e2d4b79-f329-465a-9f02-58940c229958",
        "colab": {
          "base_uri": "https://localhost:8080/"
        }
      },
      "source": [
        "# authorize access to the drive\n",
        "# This allows me to access files (Data) in my google drive\n",
        "from google.colab import drive\n",
        "drive.mount(\"/content/drive\")\n"
      ],
      "execution_count": 1,
      "outputs": [
        {
          "output_type": "stream",
          "text": [
            "Mounted at /content/drive\n"
          ],
          "name": "stdout"
        }
      ]
    },
    {
      "cell_type": "code",
      "metadata": {
        "id": "VW9lOmu-DzHR",
        "outputId": "673a7410-4005-4cfc-833d-fe42e5971087",
        "colab": {
          "base_uri": "https://localhost:8080/"
        }
      },
      "source": [
        "# This downloads Hugging Face Transformers, tools we need to fine-tune GPT-2\n",
        "!pip3 install git+https://github.com/huggingface/transformers"
      ],
      "execution_count": 2,
      "outputs": [
        {
          "output_type": "stream",
          "text": [
            "Collecting git+https://github.com/huggingface/transformers\n",
            "  Cloning https://github.com/huggingface/transformers to /tmp/pip-req-build-pbj2go5y\n",
            "  Running command git clone -q https://github.com/huggingface/transformers /tmp/pip-req-build-pbj2go5y\n",
            "  Installing build dependencies ... \u001b[?25l\u001b[?25hdone\n",
            "  Getting requirements to build wheel ... \u001b[?25l\u001b[?25hdone\n",
            "    Preparing wheel metadata ... \u001b[?25l\u001b[?25hdone\n",
            "Requirement already satisfied: numpy in /usr/local/lib/python3.6/dist-packages (from transformers==3.5.0) (1.18.5)\n",
            "Requirement already satisfied: filelock in /usr/local/lib/python3.6/dist-packages (from transformers==3.5.0) (3.0.12)\n",
            "Requirement already satisfied: tqdm>=4.27 in /usr/local/lib/python3.6/dist-packages (from transformers==3.5.0) (4.41.1)\n",
            "Collecting sentencepiece==0.1.91\n",
            "\u001b[?25l  Downloading https://files.pythonhosted.org/packages/d4/a4/d0a884c4300004a78cca907a6ff9a5e9fe4f090f5d95ab341c53d28cbc58/sentencepiece-0.1.91-cp36-cp36m-manylinux1_x86_64.whl (1.1MB)\n",
            "\u001b[K     |████████████████████████████████| 1.1MB 20.4MB/s \n",
            "\u001b[?25hCollecting sacremoses\n",
            "\u001b[?25l  Downloading https://files.pythonhosted.org/packages/7d/34/09d19aff26edcc8eb2a01bed8e98f13a1537005d31e95233fd48216eed10/sacremoses-0.0.43.tar.gz (883kB)\n",
            "\u001b[K     |████████████████████████████████| 890kB 52.9MB/s \n",
            "\u001b[?25hCollecting tokenizers==0.9.3\n",
            "\u001b[?25l  Downloading https://files.pythonhosted.org/packages/4c/34/b39eb9994bc3c999270b69c9eea40ecc6f0e97991dba28282b9fd32d44ee/tokenizers-0.9.3-cp36-cp36m-manylinux1_x86_64.whl (2.9MB)\n",
            "\u001b[K     |████████████████████████████████| 2.9MB 49.9MB/s \n",
            "\u001b[?25hRequirement already satisfied: dataclasses; python_version < \"3.7\" in /usr/local/lib/python3.6/dist-packages (from transformers==3.5.0) (0.7)\n",
            "Requirement already satisfied: regex!=2019.12.17 in /usr/local/lib/python3.6/dist-packages (from transformers==3.5.0) (2019.12.20)\n",
            "Requirement already satisfied: packaging in /usr/local/lib/python3.6/dist-packages (from transformers==3.5.0) (20.4)\n",
            "Requirement already satisfied: protobuf in /usr/local/lib/python3.6/dist-packages (from transformers==3.5.0) (3.12.4)\n",
            "Requirement already satisfied: requests in /usr/local/lib/python3.6/dist-packages (from transformers==3.5.0) (2.23.0)\n",
            "Requirement already satisfied: six in /usr/local/lib/python3.6/dist-packages (from sacremoses->transformers==3.5.0) (1.15.0)\n",
            "Requirement already satisfied: click in /usr/local/lib/python3.6/dist-packages (from sacremoses->transformers==3.5.0) (7.1.2)\n",
            "Requirement already satisfied: joblib in /usr/local/lib/python3.6/dist-packages (from sacremoses->transformers==3.5.0) (0.17.0)\n",
            "Requirement already satisfied: pyparsing>=2.0.2 in /usr/local/lib/python3.6/dist-packages (from packaging->transformers==3.5.0) (2.4.7)\n",
            "Requirement already satisfied: setuptools in /usr/local/lib/python3.6/dist-packages (from protobuf->transformers==3.5.0) (50.3.2)\n",
            "Requirement already satisfied: certifi>=2017.4.17 in /usr/local/lib/python3.6/dist-packages (from requests->transformers==3.5.0) (2020.6.20)\n",
            "Requirement already satisfied: urllib3!=1.25.0,!=1.25.1,<1.26,>=1.21.1 in /usr/local/lib/python3.6/dist-packages (from requests->transformers==3.5.0) (1.24.3)\n",
            "Requirement already satisfied: idna<3,>=2.5 in /usr/local/lib/python3.6/dist-packages (from requests->transformers==3.5.0) (2.10)\n",
            "Requirement already satisfied: chardet<4,>=3.0.2 in /usr/local/lib/python3.6/dist-packages (from requests->transformers==3.5.0) (3.0.4)\n",
            "Building wheels for collected packages: transformers\n",
            "  Building wheel for transformers (PEP 517) ... \u001b[?25l\u001b[?25hdone\n",
            "  Created wheel for transformers: filename=transformers-3.5.0-cp36-none-any.whl size=1311439 sha256=0cf8ecb5216634e66b412f9dbfccb8b34532a8097fc0030aacee7bec6f79763b\n",
            "  Stored in directory: /tmp/pip-ephem-wheel-cache-yy8sa5jq/wheels/70/d3/52/b3fa4f8b8ef04167ac62e5bb2accb62ae764db2a378247490e\n",
            "Successfully built transformers\n",
            "Building wheels for collected packages: sacremoses\n",
            "  Building wheel for sacremoses (setup.py) ... \u001b[?25l\u001b[?25hdone\n",
            "  Created wheel for sacremoses: filename=sacremoses-0.0.43-cp36-none-any.whl size=893257 sha256=7f5d1df2143c0c04645c91644bd588098b226877371fee239627f150a084c42d\n",
            "  Stored in directory: /root/.cache/pip/wheels/29/3c/fd/7ce5c3f0666dab31a50123635e6fb5e19ceb42ce38d4e58f45\n",
            "Successfully built sacremoses\n",
            "Installing collected packages: sentencepiece, sacremoses, tokenizers, transformers\n",
            "Successfully installed sacremoses-0.0.43 sentencepiece-0.1.91 tokenizers-0.9.3 transformers-3.5.0\n"
          ],
          "name": "stdout"
        }
      ]
    },
    {
      "cell_type": "code",
      "metadata": {
        "id": "hqyVr-ugJHJZ",
        "outputId": "a4c3b622-6f75-464b-d25b-0c9742d3f4e9",
        "colab": {
          "base_uri": "https://localhost:8080/"
        }
      },
      "source": [
        "# Allows me to go to the correct directory in my google drie\n",
        "%cd drive/My\\ Drive/School\\ Work/Fourth\\ Year/Capstone\\ Everything"
      ],
      "execution_count": 3,
      "outputs": [
        {
          "output_type": "stream",
          "text": [
            "/content/drive/My Drive/School Work/Fourth Year/Capstone Everything\n"
          ],
          "name": "stdout"
        }
      ]
    },
    {
      "cell_type": "code",
      "metadata": {
        "id": "Iq2RCI-wEIPj",
        "outputId": "0a3ae6cb-3636-47c2-f9ea-f32a92d5f6fb",
        "colab": {
          "base_uri": "https://localhost:8080/"
        }
      },
      "source": [
        "# the fine-tuning code by Hugging Face that allows us to fine-tune\n",
        "# this file is already archieved after the most recent hugging face modelling se we need to replace the url\n",
        "# !wget https://raw.githubusercontent.com/huggingface/transformers/master/examples/language-modeling/run_language_modeling.py\n",
        "!wget https://raw.githubusercontent.com/huggingface/transformers/master/examples/contrib/legacy/run_language_modeling.py"
      ],
      "execution_count": 4,
      "outputs": [
        {
          "output_type": "stream",
          "text": [
            "--2020-11-14 12:32:37--  https://raw.githubusercontent.com/huggingface/transformers/master/examples/language-modeling/run_language_modeling.py\n",
            "Resolving raw.githubusercontent.com (raw.githubusercontent.com)... 151.101.0.133, 151.101.64.133, 151.101.128.133, ...\n",
            "Connecting to raw.githubusercontent.com (raw.githubusercontent.com)|151.101.0.133|:443... connected.\n",
            "HTTP request sent, awaiting response... 404 Not Found\n",
            "2020-11-14 12:32:37 ERROR 404: Not Found.\n",
            "\n"
          ],
          "name": "stdout"
        }
      ]
    },
    {
      "cell_type": "code",
      "metadata": {
        "id": "1QPzV5ugJL_V",
        "outputId": "10a3a821-e4f8-4818-d4a3-39afe72b4238",
        "colab": {
          "base_uri": "https://localhost:8080/"
        }
      },
      "source": [
        "% ls"
      ],
      "execution_count": 5,
      "outputs": [
        {
          "output_type": "stream",
          "text": [
            "'Brian'\\''s Peer Feedback Template (10.28.21).gdoc'\n",
            "'Capstone Coversheet.gdoc'\n",
            "'Capstone Proposal (Junior Year).gdoc'\n",
            " \u001b[0m\u001b[01;34mclass\u001b[0m/\n",
            "'Dev Journal.gdoc'\n",
            " \u001b[01;34mModels\u001b[0m/\n",
            " \u001b[01;34mNone\u001b[0m/\n",
            " \u001b[01;34moutput_description\u001b[0m/\n",
            "\u001b[01;34m'Paper Drafts'\u001b[0m/\n",
            "'Punch Card.gsheet'\n",
            " run_language_modeling.py\n",
            " run_language_modeling.py.1\n",
            " run_language_modeling.py.2\n",
            " run_language_modeling.py.3\n",
            " \u001b[01;34mruns\u001b[0m/\n"
          ],
          "name": "stdout"
        }
      ]
    },
    {
      "cell_type": "code",
      "metadata": {
        "id": "_fWjHOEREKHF"
      },
      "source": [
        "# get dataset\n",
        "datapath = \"Models/Data\"\n",
        "train_path = datapath + \"/train.txt\"\n",
        "valid_path = datapath + \"/valid.txt\"\n",
        "output = \"./output\""
      ],
      "execution_count": 6,
      "outputs": []
    },
    {
      "cell_type": "code",
      "metadata": {
        "id": "GZpI845vaDr6",
        "outputId": "33373e3a-e0d2-4b88-9416-3d50c343b7a6",
        "colab": {
          "base_uri": "https://localhost:8080/",
          "height": 136
        }
      },
      "source": [
        "# %%bash \n",
        "# export DIRECTORY=Models/Data/Description_Data\n",
        "# ls $DIRECTORY"
      ],
      "execution_count": null,
      "outputs": [
        {
          "output_type": "stream",
          "text": [
            "cached_lm_GPT2Tokenizer_1024_description_train.txt\n",
            "cached_lm_GPT2Tokenizer_1024_description_train.txt.lock\n",
            "cached_lm_GPT2Tokenizer_1024_description_valid.txt\n",
            "cached_lm_GPT2Tokenizer_1024_description_valid.txt.lock\n",
            "description_test.txt\n",
            "description_train.txt\n",
            "description_valid.txt\n"
          ],
          "name": "stdout"
        }
      ]
    },
    {
      "cell_type": "code",
      "metadata": {
        "id": "no6UTkRDFLJU",
        "outputId": "cf986f16-ed5d-4abd-b79d-e9ec436d9c13",
        "colab": {
          "base_uri": "https://localhost:8080/"
        }
      },
      "source": [
        "# Main fine-tuning code using run_language_modeling.py\n",
        "%%bash\n",
        "export TRAIN_FILE=Models/Data/train.txt\n",
        "export TEST_FILE=Models/Data/valid.txt\n",
        "export MODEL_NAME=gpt2\n",
        "export OUTPUT_DIR=Models/Claims_model\n",
        "\n",
        "# python3 run_language_modeling.py \\\n",
        "#     --output_dir=$OUTPUT_DIR \\\n",
        "#     --model_type=$MODEL_NAME \\\n",
        "#     --model_name_or_path=$MODEL_NAME \\\n",
        "#     --do_train \\\n",
        "#     --train_data_file=$TRAIN_FILE \\\n",
        "#     --do_eval \\\n",
        "#     --eval_data_file=$TEST_FILE \\\n",
        "#     --per_gpu_train_batch_size=1 \\\n",
        "#     --save_steps=-1 \\\n",
        "#     --num_train_epochs=2\n",
        "\n",
        "python run_language_modeling.py \\\n",
        "    --output_dir=$OUTPUT_DIR \\\n",
        "    --model_type=gpt2 \\\n",
        "    --model_name_or_path=$MODEL_NAME \\\n",
        "    --do_train \\\n",
        "    --train_data_file=$TRAIN_FILE \\\n",
        "    --do_eval \\\n",
        "    --eval_data_file=$TEST_FILE \\\n",
        "    --per_gpu_train_batch_size=1 \\\n",
        "    --save_steps=-1 \\\n",
        "    --num_train_epochs=2"
      ],
      "execution_count": 7,
      "outputs": [
        {
          "output_type": "stream",
          "text": [
            "{'loss': 1.849806396484375, 'learning_rate': 2.7436823104693144e-05, 'epoch': 0.9025270758122743}\n",
            "{'loss': 1.556890380859375, 'learning_rate': 4.873646209386281e-06, 'epoch': 1.8050541516245486}\n",
            "{'epoch': 2.0}\n"
          ],
          "name": "stdout"
        },
        {
          "output_type": "stream",
          "text": [
            "2020-11-14 12:34:28.615376: I tensorflow/stream_executor/platform/default/dso_loader.cc:48] Successfully opened dynamic library libcudart.so.10.1\n",
            "11/14/2020 12:34:30 - WARNING - __main__ -   Process rank: -1, device: cuda:0, n_gpu: 1, distributed training: False, 16-bits training: False\n",
            "11/14/2020 12:34:30 - INFO - __main__ -   Training/evaluation parameters TrainingArguments(output_dir='Models/Claims_model', overwrite_output_dir=False, do_train=True, do_eval=True, do_predict=False, evaluate_during_training=False, evaluation_strategy=<EvaluationStrategy.NO: 'no'>, prediction_loss_only=False, per_device_train_batch_size=8, per_device_eval_batch_size=8, per_gpu_train_batch_size=1, per_gpu_eval_batch_size=None, gradient_accumulation_steps=1, eval_accumulation_steps=None, learning_rate=5e-05, weight_decay=0.0, adam_beta1=0.9, adam_beta2=0.999, adam_epsilon=1e-08, max_grad_norm=1.0, num_train_epochs=2.0, max_steps=-1, warmup_steps=0, logging_dir='runs/Nov14_12-34-30_babc6139389e', logging_first_step=False, logging_steps=500, save_steps=-1, save_total_limit=None, no_cuda=False, seed=42, fp16=False, fp16_opt_level='O1', local_rank=-1, tpu_num_cores=None, tpu_metrics_debug=False, debug=False, dataloader_drop_last=False, eval_steps=500, dataloader_num_workers=0, past_index=-1, run_name='Models/Claims_model', disable_tqdm=False, remove_unused_columns=True, label_names=None, load_best_model_at_end=False, metric_for_best_model=None, greater_is_better=None)\n",
            "11/14/2020 12:34:30 - INFO - filelock -   Lock 139795141108736 acquired on /root/.cache/torch/transformers/fc674cd6907b4c9e933cb42d67662436b89fa9540a1f40d7c919d0109289ad01.7d2e0efa5ca20cef4fb199382111e9d3ad96fd77b849e1d4bed13a66e1336f51.lock\n",
            "\rDownloading:   0%|          | 0.00/665 [00:00<?, ?B/s]\rDownloading: 100%|██████████| 665/665 [00:00<00:00, 686kB/s]\n",
            "11/14/2020 12:34:31 - INFO - filelock -   Lock 139795141108736 released on /root/.cache/torch/transformers/fc674cd6907b4c9e933cb42d67662436b89fa9540a1f40d7c919d0109289ad01.7d2e0efa5ca20cef4fb199382111e9d3ad96fd77b849e1d4bed13a66e1336f51.lock\n",
            "11/14/2020 12:34:31 - INFO - filelock -   Lock 139795141043816 acquired on /root/.cache/torch/transformers/684fe667923972fb57f6b4dcb61a3c92763ad89882f3da5da9866baf14f2d60f.c7ed1f96aac49e745788faa77ba0a26a392643a50bb388b9c04ff469e555241f.lock\n",
            "\rDownloading:   0%|          | 0.00/1.04M [00:00<?, ?B/s]\rDownloading: 100%|██████████| 1.04M/1.04M [00:00<00:00, 11.1MB/s]\n",
            "11/14/2020 12:34:31 - INFO - filelock -   Lock 139795141043816 released on /root/.cache/torch/transformers/684fe667923972fb57f6b4dcb61a3c92763ad89882f3da5da9866baf14f2d60f.c7ed1f96aac49e745788faa77ba0a26a392643a50bb388b9c04ff469e555241f.lock\n",
            "11/14/2020 12:34:31 - INFO - filelock -   Lock 139795141043816 acquired on /root/.cache/torch/transformers/c0c761a63004025aeadd530c4c27b860ec4ecbe8a00531233de21d865a402598.5d12962c5ee615a4c803841266e9c3be9a691a924f72d395d3a6c6c81157788b.lock\n",
            "\rDownloading:   0%|          | 0.00/456k [00:00<?, ?B/s]\rDownloading: 100%|██████████| 456k/456k [00:00<00:00, 5.66MB/s]\n",
            "11/14/2020 12:34:31 - INFO - filelock -   Lock 139795141043816 released on /root/.cache/torch/transformers/c0c761a63004025aeadd530c4c27b860ec4ecbe8a00531233de21d865a402598.5d12962c5ee615a4c803841266e9c3be9a691a924f72d395d3a6c6c81157788b.lock\n",
            "/usr/local/lib/python3.6/dist-packages/transformers/modeling_auto.py:849: FutureWarning: The class `AutoModelWithLMHead` is deprecated and will be removed in a future version. Please use `AutoModelForCausalLM` for causal language models, `AutoModelForMaskedLM` for masked language models and `AutoModelForSeq2SeqLM` for encoder-decoder models.\n",
            "  FutureWarning,\n",
            "11/14/2020 12:34:32 - INFO - filelock -   Lock 139795141110920 acquired on /root/.cache/torch/transformers/752929ace039baa8ef70fe21cdf9ab9445773d20e733cf693d667982e210837e.323c769945a351daa25546176f8208b3004b6f563438a7603e7932bae9025925.lock\n",
            "\rDownloading:   0%|          | 0.00/548M [00:00<?, ?B/s]\rDownloading:   2%|▏         | 8.22M/548M [00:00<00:06, 82.2MB/s]\rDownloading:   3%|▎         | 17.3M/548M [00:00<00:06, 84.7MB/s]\rDownloading:   5%|▍         | 26.6M/548M [00:00<00:05, 87.0MB/s]\rDownloading:   6%|▋         | 35.5M/548M [00:00<00:05, 87.5MB/s]\rDownloading:   8%|▊         | 44.3M/548M [00:00<00:05, 87.7MB/s]\rDownloading:  10%|▉         | 53.4M/548M [00:00<00:05, 88.5MB/s]\rDownloading:  11%|█▏        | 62.4M/548M [00:00<00:05, 89.2MB/s]\rDownloading:  13%|█▎        | 71.5M/548M [00:00<00:05, 89.5MB/s]\rDownloading:  15%|█▍        | 80.4M/548M [00:00<00:05, 89.5MB/s]\rDownloading:  16%|█▋        | 89.2M/548M [00:01<00:05, 88.9MB/s]\rDownloading:  18%|█▊        | 98.1M/548M [00:01<00:05, 89.0MB/s]\rDownloading:  19%|█▉        | 107M/548M [00:01<00:04, 88.6MB/s] \rDownloading:  21%|██▏       | 117M/548M [00:01<00:04, 90.9MB/s]\rDownloading:  23%|██▎       | 126M/548M [00:01<00:05, 76.6MB/s]\rDownloading:  24%|██▍       | 134M/548M [00:01<00:05, 78.1MB/s]\rDownloading:  26%|██▌       | 143M/548M [00:01<00:04, 81.7MB/s]\rDownloading:  28%|██▊       | 152M/548M [00:01<00:04, 83.8MB/s]\rDownloading:  29%|██▉       | 161M/548M [00:01<00:04, 84.8MB/s]\rDownloading:  31%|███       | 169M/548M [00:01<00:04, 83.2MB/s]\rDownloading:  32%|███▏      | 178M/548M [00:02<00:04, 82.9MB/s]\rDownloading:  34%|███▍      | 186M/548M [00:02<00:04, 81.6MB/s]\rDownloading:  36%|███▌      | 195M/548M [00:02<00:04, 83.3MB/s]\rDownloading:  37%|███▋      | 204M/548M [00:02<00:03, 86.2MB/s]\rDownloading:  39%|███▉      | 214M/548M [00:02<00:03, 89.4MB/s]\rDownloading:  41%|████      | 223M/548M [00:02<00:03, 91.3MB/s]\rDownloading:  42%|████▏     | 233M/548M [00:02<00:03, 90.0MB/s]\rDownloading:  44%|████▍     | 242M/548M [00:02<00:03, 90.8MB/s]\rDownloading:  46%|████▌     | 251M/548M [00:02<00:03, 92.0MB/s]\rDownloading:  48%|████▊     | 261M/548M [00:02<00:03, 92.5MB/s]\rDownloading:  49%|████▉     | 270M/548M [00:03<00:03, 92.2MB/s]\rDownloading:  51%|█████     | 279M/548M [00:03<00:02, 90.5MB/s]\rDownloading:  53%|█████▎    | 288M/548M [00:03<00:02, 90.9MB/s]\rDownloading:  54%|█████▍    | 298M/548M [00:03<00:02, 86.0MB/s]\rDownloading:  56%|█████▌    | 306M/548M [00:03<00:03, 77.2MB/s]\rDownloading:  57%|█████▋    | 315M/548M [00:03<00:02, 79.6MB/s]\rDownloading:  59%|█████▉    | 323M/548M [00:03<00:02, 81.1MB/s]\rDownloading:  60%|██████    | 332M/548M [00:03<00:02, 80.0MB/s]\rDownloading:  62%|██████▏   | 340M/548M [00:03<00:02, 77.5MB/s]\rDownloading:  63%|██████▎   | 348M/548M [00:04<00:02, 79.2MB/s]\rDownloading:  65%|██████▍   | 356M/548M [00:04<00:02, 79.2MB/s]\rDownloading:  67%|██████▋   | 365M/548M [00:04<00:02, 81.2MB/s]\rDownloading:  68%|██████▊   | 373M/548M [00:04<00:02, 81.2MB/s]\rDownloading:  70%|██████▉   | 382M/548M [00:04<00:01, 84.1MB/s]\rDownloading:  71%|███████▏  | 391M/548M [00:04<00:01, 86.4MB/s]\rDownloading:  73%|███████▎  | 401M/548M [00:04<00:01, 88.6MB/s]\rDownloading:  75%|███████▍  | 410M/548M [00:04<00:01, 89.8MB/s]\rDownloading:  76%|███████▋  | 419M/548M [00:04<00:01, 90.6MB/s]\rDownloading:  78%|███████▊  | 428M/548M [00:04<00:01, 91.0MB/s]\rDownloading:  80%|███████▉  | 437M/548M [00:05<00:01, 79.9MB/s]\rDownloading:  81%|████████▏ | 446M/548M [00:05<00:01, 79.7MB/s]\rDownloading:  83%|████████▎ | 454M/548M [00:05<00:01, 81.8MB/s]\rDownloading:  85%|████████▍ | 463M/548M [00:05<00:01, 83.9MB/s]\rDownloading:  86%|████████▌ | 472M/548M [00:05<00:00, 84.0MB/s]\rDownloading:  88%|████████▊ | 480M/548M [00:05<00:00, 83.8MB/s]\rDownloading:  89%|████████▉ | 489M/548M [00:05<00:00, 84.1MB/s]\rDownloading:  91%|█████████ | 498M/548M [00:05<00:00, 84.9MB/s]\rDownloading:  92%|█████████▏| 506M/548M [00:05<00:00, 85.2MB/s]\rDownloading:  94%|█████████▍| 515M/548M [00:06<00:00, 85.6MB/s]\rDownloading:  96%|█████████▌| 524M/548M [00:06<00:00, 86.9MB/s]\rDownloading:  97%|█████████▋| 533M/548M [00:06<00:00, 86.5MB/s]\rDownloading:  99%|█████████▉| 542M/548M [00:06<00:00, 88.4MB/s]\rDownloading: 100%|██████████| 548M/548M [00:06<00:00, 85.7MB/s]\n",
            "11/14/2020 12:34:38 - INFO - filelock -   Lock 139795141110920 released on /root/.cache/torch/transformers/752929ace039baa8ef70fe21cdf9ab9445773d20e733cf693d667982e210837e.323c769945a351daa25546176f8208b3004b6f563438a7603e7932bae9025925.lock\n",
            "/usr/local/lib/python3.6/dist-packages/transformers/tokenization_utils_base.py:1423: FutureWarning: The `max_len` attribute has been deprecated and will be removed in a future version, use `model_max_length` instead.\n",
            "  FutureWarning,\n",
            "/usr/local/lib/python3.6/dist-packages/transformers/data/datasets/language_modeling.py:44: FutureWarning: This dataset will be removed from the library soon, preprocessing should be handled with the 🤗 Datasets library. You can have a look at this example script for pointers: https://github.com/huggingface/transformers/blob/master/examples/language-modeling/run_mlm.py\n",
            "  FutureWarning,\n",
            "11/14/2020 12:34:44 - INFO - filelock -   Lock 139795118350232 acquired on Models/Data/cached_lm_GPT2Tokenizer_1024_train.txt.lock\n",
            "11/14/2020 12:34:44 - INFO - filelock -   Lock 139795118350232 released on Models/Data/cached_lm_GPT2Tokenizer_1024_train.txt.lock\n",
            "11/14/2020 12:34:44 - INFO - filelock -   Lock 139795118350176 acquired on Models/Data/cached_lm_GPT2Tokenizer_1024_valid.txt.lock\n",
            "11/14/2020 12:34:44 - INFO - filelock -   Lock 139795118350176 released on Models/Data/cached_lm_GPT2Tokenizer_1024_valid.txt.lock\n",
            "/usr/local/lib/python3.6/dist-packages/transformers/trainer.py:281: FutureWarning: Passing `prediction_loss_only` as a keyword argument is deprecated and won't be possible in a future version. Use `args.prediction_loss_only` instead. Setting `args.prediction_loss_only=True\n",
            "  FutureWarning,\n",
            "Using deprecated `--per_gpu_train_batch_size` argument which will be removed in a future version. Using `--per_device_train_batch_size` is preferred.\n",
            "Using deprecated `--per_gpu_train_batch_size` argument which will be removed in a future version. Using `--per_device_train_batch_size` is preferred.\n",
            "Using deprecated `--per_gpu_train_batch_size` argument which will be removed in a future version. Using `--per_device_train_batch_size` is preferred.\n",
            "\r  0%|          | 0/1108 [00:00<?, ?it/s]\r  0%|          | 1/1108 [00:00<11:16,  1.64it/s]\r  0%|          | 2/1108 [00:00<09:51,  1.87it/s]\r  0%|          | 3/1108 [00:01<09:01,  2.04it/s]\r  0%|          | 4/1108 [00:01<08:32,  2.15it/s]\r  0%|          | 5/1108 [00:02<08:05,  2.27it/s]\r  1%|          | 6/1108 [00:02<07:48,  2.35it/s]\r  1%|          | 7/1108 [00:02<07:38,  2.40it/s]\r  1%|          | 8/1108 [00:03<07:29,  2.45it/s]\r  1%|          | 9/1108 [00:03<07:24,  2.47it/s]\r  1%|          | 10/1108 [00:04<07:21,  2.49it/s]\r  1%|          | 11/1108 [00:04<07:18,  2.50it/s]\r  1%|          | 12/1108 [00:04<07:14,  2.52it/s]\r  1%|          | 13/1108 [00:05<07:12,  2.53it/s]\r  1%|▏         | 14/1108 [00:05<07:11,  2.54it/s]\r  1%|▏         | 15/1108 [00:06<07:09,  2.54it/s]\r  1%|▏         | 16/1108 [00:06<07:07,  2.55it/s]\r  2%|▏         | 17/1108 [00:06<07:08,  2.54it/s]\r  2%|▏         | 18/1108 [00:07<07:07,  2.55it/s]\r  2%|▏         | 19/1108 [00:07<07:07,  2.55it/s]\r  2%|▏         | 20/1108 [00:08<07:07,  2.54it/s]\r  2%|▏         | 21/1108 [00:08<07:06,  2.55it/s]\r  2%|▏         | 22/1108 [00:08<07:07,  2.54it/s]\r  2%|▏         | 23/1108 [00:09<07:07,  2.54it/s]\r  2%|▏         | 24/1108 [00:09<07:07,  2.54it/s]\r  2%|▏         | 25/1108 [00:10<07:09,  2.52it/s]\r  2%|▏         | 26/1108 [00:10<07:09,  2.52it/s]\r  2%|▏         | 27/1108 [00:10<07:08,  2.52it/s]\r  3%|▎         | 28/1108 [00:11<07:08,  2.52it/s]\r  3%|▎         | 29/1108 [00:11<07:08,  2.52it/s]\r  3%|▎         | 30/1108 [00:11<07:07,  2.52it/s]\r  3%|▎         | 31/1108 [00:12<07:06,  2.52it/s]\r  3%|▎         | 32/1108 [00:12<07:06,  2.52it/s]\r  3%|▎         | 33/1108 [00:13<07:07,  2.52it/s]\r  3%|▎         | 34/1108 [00:13<07:10,  2.49it/s]\r  3%|▎         | 35/1108 [00:13<07:07,  2.51it/s]\r  3%|▎         | 36/1108 [00:14<07:07,  2.51it/s]\r  3%|▎         | 37/1108 [00:14<07:08,  2.50it/s]\r  3%|▎         | 38/1108 [00:15<07:08,  2.49it/s]\r  4%|▎         | 39/1108 [00:15<07:08,  2.49it/s]\r  4%|▎         | 40/1108 [00:15<07:08,  2.49it/s]\r  4%|▎         | 41/1108 [00:16<07:06,  2.50it/s]\r  4%|▍         | 42/1108 [00:16<07:06,  2.50it/s]\r  4%|▍         | 43/1108 [00:17<07:06,  2.50it/s]\r  4%|▍         | 44/1108 [00:17<07:07,  2.49it/s]\r  4%|▍         | 45/1108 [00:18<07:08,  2.48it/s]\r  4%|▍         | 46/1108 [00:18<07:08,  2.48it/s]\r  4%|▍         | 47/1108 [00:18<07:07,  2.48it/s]\r  4%|▍         | 48/1108 [00:19<07:07,  2.48it/s]\r  4%|▍         | 49/1108 [00:19<07:07,  2.48it/s]\r  5%|▍         | 50/1108 [00:20<07:08,  2.47it/s]\r  5%|▍         | 51/1108 [00:20<07:07,  2.47it/s]\r  5%|▍         | 52/1108 [00:20<07:06,  2.47it/s]\r  5%|▍         | 53/1108 [00:21<07:07,  2.47it/s]\r  5%|▍         | 54/1108 [00:21<07:07,  2.46it/s]\r  5%|▍         | 55/1108 [00:22<07:07,  2.46it/s]\r  5%|▌         | 56/1108 [00:22<07:07,  2.46it/s]\r  5%|▌         | 57/1108 [00:22<07:06,  2.46it/s]\r  5%|▌         | 58/1108 [00:23<07:07,  2.46it/s]\r  5%|▌         | 59/1108 [00:23<07:06,  2.46it/s]\r  5%|▌         | 60/1108 [00:24<07:06,  2.46it/s]\r  6%|▌         | 61/1108 [00:24<07:07,  2.45it/s]\r  6%|▌         | 62/1108 [00:24<07:08,  2.44it/s]\r  6%|▌         | 63/1108 [00:25<07:08,  2.44it/s]\r  6%|▌         | 64/1108 [00:25<07:07,  2.44it/s]\r  6%|▌         | 65/1108 [00:26<07:06,  2.45it/s]\r  6%|▌         | 66/1108 [00:26<07:07,  2.44it/s]\r  6%|▌         | 67/1108 [00:26<07:07,  2.43it/s]\r  6%|▌         | 68/1108 [00:27<07:06,  2.44it/s]\r  6%|▌         | 69/1108 [00:27<07:05,  2.44it/s]\r  6%|▋         | 70/1108 [00:28<07:04,  2.45it/s]\r  6%|▋         | 71/1108 [00:28<07:03,  2.45it/s]\r  6%|▋         | 72/1108 [00:29<07:03,  2.44it/s]\r  7%|▋         | 73/1108 [00:29<07:03,  2.45it/s]\r  7%|▋         | 74/1108 [00:29<07:03,  2.44it/s]\r  7%|▋         | 75/1108 [00:30<07:03,  2.44it/s]\r  7%|▋         | 76/1108 [00:30<07:05,  2.43it/s]\r  7%|▋         | 77/1108 [00:31<07:02,  2.44it/s]\r  7%|▋         | 78/1108 [00:31<07:02,  2.44it/s]\r  7%|▋         | 79/1108 [00:31<07:01,  2.44it/s]\r  7%|▋         | 80/1108 [00:32<07:03,  2.43it/s]\r  7%|▋         | 81/1108 [00:32<07:02,  2.43it/s]\r  7%|▋         | 82/1108 [00:33<07:01,  2.43it/s]\r  7%|▋         | 83/1108 [00:33<07:02,  2.42it/s]\r  8%|▊         | 84/1108 [00:33<07:02,  2.43it/s]\r  8%|▊         | 85/1108 [00:34<07:03,  2.41it/s]\r  8%|▊         | 86/1108 [00:34<07:02,  2.42it/s]\r  8%|▊         | 87/1108 [00:35<07:03,  2.41it/s]\r  8%|▊         | 88/1108 [00:35<07:02,  2.41it/s]\r  8%|▊         | 89/1108 [00:36<07:02,  2.41it/s]\r  8%|▊         | 90/1108 [00:36<07:02,  2.41it/s]\r  8%|▊         | 91/1108 [00:36<07:02,  2.40it/s]\r  8%|▊         | 92/1108 [00:37<07:05,  2.39it/s]\r  8%|▊         | 93/1108 [00:37<07:04,  2.39it/s]\r  8%|▊         | 94/1108 [00:38<07:03,  2.39it/s]\r  9%|▊         | 95/1108 [00:38<07:03,  2.39it/s]\r  9%|▊         | 96/1108 [00:38<07:03,  2.39it/s]\r  9%|▉         | 97/1108 [00:39<07:03,  2.39it/s]\r  9%|▉         | 98/1108 [00:39<07:02,  2.39it/s]\r  9%|▉         | 99/1108 [00:40<07:02,  2.39it/s]\r  9%|▉         | 100/1108 [00:40<07:02,  2.39it/s]\r  9%|▉         | 101/1108 [00:41<07:02,  2.38it/s]\r  9%|▉         | 102/1108 [00:41<07:02,  2.38it/s]\r  9%|▉         | 103/1108 [00:41<07:02,  2.38it/s]\r  9%|▉         | 104/1108 [00:42<07:02,  2.38it/s]\r  9%|▉         | 105/1108 [00:42<07:02,  2.38it/s]\r 10%|▉         | 106/1108 [00:43<07:01,  2.38it/s]\r 10%|▉         | 107/1108 [00:43<07:01,  2.37it/s]\r 10%|▉         | 108/1108 [00:44<07:01,  2.37it/s]\r 10%|▉         | 109/1108 [00:44<07:00,  2.37it/s]\r 10%|▉         | 110/1108 [00:44<07:02,  2.36it/s]\r 10%|█         | 111/1108 [00:45<07:02,  2.36it/s]\r 10%|█         | 112/1108 [00:45<07:02,  2.36it/s]\r 10%|█         | 113/1108 [00:46<07:03,  2.35it/s]\r 10%|█         | 114/1108 [00:46<07:02,  2.36it/s]\r 10%|█         | 115/1108 [00:46<07:01,  2.35it/s]\r 10%|█         | 116/1108 [00:47<07:01,  2.35it/s]\r 11%|█         | 117/1108 [00:47<07:01,  2.35it/s]\r 11%|█         | 118/1108 [00:48<07:01,  2.35it/s]\r 11%|█         | 119/1108 [00:48<07:01,  2.35it/s]\r 11%|█         | 120/1108 [00:49<07:02,  2.34it/s]\r 11%|█         | 121/1108 [00:49<07:01,  2.34it/s]\r 11%|█         | 122/1108 [00:49<07:01,  2.34it/s]\r 11%|█         | 123/1108 [00:50<07:01,  2.34it/s]\r 11%|█         | 124/1108 [00:50<07:01,  2.33it/s]\r 11%|█▏        | 125/1108 [00:51<07:01,  2.33it/s]\r 11%|█▏        | 126/1108 [00:51<07:01,  2.33it/s]\r 11%|█▏        | 127/1108 [00:52<07:02,  2.32it/s]\r 12%|█▏        | 128/1108 [00:52<07:02,  2.32it/s]\r 12%|█▏        | 129/1108 [00:52<07:02,  2.32it/s]\r 12%|█▏        | 130/1108 [00:53<07:02,  2.31it/s]\r 12%|█▏        | 131/1108 [00:53<07:02,  2.31it/s]\r 12%|█▏        | 132/1108 [00:54<07:02,  2.31it/s]\r 12%|█▏        | 133/1108 [00:54<07:02,  2.31it/s]\r 12%|█▏        | 134/1108 [00:55<07:02,  2.30it/s]\r 12%|█▏        | 135/1108 [00:55<07:02,  2.30it/s]\r 12%|█▏        | 136/1108 [00:56<07:04,  2.29it/s]\r 12%|█▏        | 137/1108 [00:56<07:00,  2.31it/s]\r 12%|█▏        | 138/1108 [00:56<07:00,  2.31it/s]\r 13%|█▎        | 139/1108 [00:57<07:01,  2.30it/s]\r 13%|█▎        | 140/1108 [00:57<07:00,  2.30it/s]\r 13%|█▎        | 141/1108 [00:58<07:00,  2.30it/s]\r 13%|█▎        | 142/1108 [00:58<07:01,  2.29it/s]\r 13%|█▎        | 143/1108 [00:59<07:01,  2.29it/s]\r 13%|█▎        | 144/1108 [00:59<07:01,  2.29it/s]\r 13%|█▎        | 145/1108 [00:59<07:01,  2.29it/s]\r 13%|█▎        | 146/1108 [01:00<07:01,  2.28it/s]\r 13%|█▎        | 147/1108 [01:00<07:00,  2.28it/s]\r 13%|█▎        | 148/1108 [01:01<07:00,  2.28it/s]\r 13%|█▎        | 149/1108 [01:01<06:59,  2.29it/s]\r 14%|█▎        | 150/1108 [01:02<06:58,  2.29it/s]\r 14%|█▎        | 151/1108 [01:02<06:58,  2.29it/s]\r 14%|█▎        | 152/1108 [01:03<06:58,  2.29it/s]\r 14%|█▍        | 153/1108 [01:03<06:57,  2.29it/s]\r 14%|█▍        | 154/1108 [01:03<06:57,  2.28it/s]\r 14%|█▍        | 155/1108 [01:04<06:57,  2.28it/s]\r 14%|█▍        | 156/1108 [01:04<06:58,  2.28it/s]\r 14%|█▍        | 157/1108 [01:05<06:56,  2.28it/s]\r 14%|█▍        | 158/1108 [01:05<06:57,  2.28it/s]\r 14%|█▍        | 159/1108 [01:06<06:59,  2.26it/s]\r 14%|█▍        | 160/1108 [01:06<06:56,  2.28it/s]\r 15%|█▍        | 161/1108 [01:06<06:55,  2.28it/s]\r 15%|█▍        | 162/1108 [01:07<06:54,  2.28it/s]\r 15%|█▍        | 163/1108 [01:07<06:53,  2.29it/s]\r 15%|█▍        | 164/1108 [01:08<06:52,  2.29it/s]\r 15%|█▍        | 165/1108 [01:08<06:52,  2.29it/s]\r 15%|█▍        | 166/1108 [01:09<06:53,  2.28it/s]\r 15%|█▌        | 167/1108 [01:09<06:50,  2.29it/s]\r 15%|█▌        | 168/1108 [01:10<06:51,  2.28it/s]\r 15%|█▌        | 169/1108 [01:10<06:49,  2.29it/s]\r 15%|█▌        | 170/1108 [01:10<06:48,  2.29it/s]\r 15%|█▌        | 171/1108 [01:11<06:47,  2.30it/s]\r 16%|█▌        | 172/1108 [01:11<06:47,  2.29it/s]\r 16%|█▌        | 173/1108 [01:12<06:47,  2.29it/s]\r 16%|█▌        | 174/1108 [01:12<06:46,  2.30it/s]\r 16%|█▌        | 175/1108 [01:13<06:45,  2.30it/s]\r 16%|█▌        | 176/1108 [01:13<06:44,  2.31it/s]\r 16%|█▌        | 177/1108 [01:13<06:43,  2.31it/s]\r 16%|█▌        | 178/1108 [01:14<06:42,  2.31it/s]\r 16%|█▌        | 179/1108 [01:14<06:42,  2.31it/s]\r 16%|█▌        | 180/1108 [01:15<06:43,  2.30it/s]\r 16%|█▋        | 181/1108 [01:15<06:41,  2.31it/s]\r 16%|█▋        | 182/1108 [01:16<06:40,  2.31it/s]\r 17%|█▋        | 183/1108 [01:16<06:37,  2.32it/s]\r 17%|█▋        | 184/1108 [01:16<06:37,  2.32it/s]\r 17%|█▋        | 185/1108 [01:17<06:37,  2.32it/s]\r 17%|█▋        | 186/1108 [01:17<06:36,  2.32it/s]\r 17%|█▋        | 187/1108 [01:18<06:38,  2.31it/s]\r 17%|█▋        | 188/1108 [01:18<06:34,  2.33it/s]\r 17%|█▋        | 189/1108 [01:19<06:34,  2.33it/s]\r 17%|█▋        | 190/1108 [01:19<06:34,  2.33it/s]\r 17%|█▋        | 191/1108 [01:19<06:33,  2.33it/s]\r 17%|█▋        | 192/1108 [01:20<06:32,  2.33it/s]\r 17%|█▋        | 193/1108 [01:20<06:32,  2.33it/s]\r 18%|█▊        | 194/1108 [01:21<06:32,  2.33it/s]\r 18%|█▊        | 195/1108 [01:21<06:30,  2.34it/s]\r 18%|█▊        | 196/1108 [01:22<06:29,  2.34it/s]\r 18%|█▊        | 197/1108 [01:22<06:29,  2.34it/s]\r 18%|█▊        | 198/1108 [01:22<06:29,  2.34it/s]\r 18%|█▊        | 199/1108 [01:23<06:29,  2.34it/s]\r 18%|█▊        | 200/1108 [01:23<06:28,  2.34it/s]\r 18%|█▊        | 201/1108 [01:24<06:27,  2.34it/s]\r 18%|█▊        | 202/1108 [01:24<06:26,  2.34it/s]\r 18%|█▊        | 203/1108 [01:25<06:28,  2.33it/s]\r 18%|█▊        | 204/1108 [01:25<06:26,  2.34it/s]\r 19%|█▊        | 205/1108 [01:25<06:25,  2.34it/s]\r 19%|█▊        | 206/1108 [01:26<06:26,  2.33it/s]\r 19%|█▊        | 207/1108 [01:26<06:24,  2.34it/s]\r 19%|█▉        | 208/1108 [01:27<06:23,  2.34it/s]\r 19%|█▉        | 209/1108 [01:27<06:22,  2.35it/s]\r 19%|█▉        | 210/1108 [01:28<06:21,  2.35it/s]\r 19%|█▉        | 211/1108 [01:28<06:21,  2.35it/s]\r 19%|█▉        | 212/1108 [01:28<06:21,  2.35it/s]\r 19%|█▉        | 213/1108 [01:29<06:20,  2.35it/s]\r 19%|█▉        | 214/1108 [01:29<06:19,  2.36it/s]\r 19%|█▉        | 215/1108 [01:30<06:19,  2.35it/s]\r 19%|█▉        | 216/1108 [01:30<06:18,  2.35it/s]\r 20%|█▉        | 217/1108 [01:31<06:19,  2.35it/s]\r 20%|█▉        | 218/1108 [01:31<06:17,  2.36it/s]\r 20%|█▉        | 219/1108 [01:31<06:15,  2.37it/s]\r 20%|█▉        | 220/1108 [01:32<06:15,  2.37it/s]\r 20%|█▉        | 221/1108 [01:32<06:15,  2.36it/s]\r 20%|██        | 222/1108 [01:33<06:14,  2.36it/s]\r 20%|██        | 223/1108 [01:33<06:14,  2.36it/s]\r 20%|██        | 224/1108 [01:34<06:14,  2.36it/s]\r 20%|██        | 225/1108 [01:34<06:13,  2.36it/s]\r 20%|██        | 226/1108 [01:34<06:12,  2.37it/s]\r 20%|██        | 227/1108 [01:35<06:11,  2.37it/s]\r 21%|██        | 228/1108 [01:35<06:11,  2.37it/s]\r 21%|██        | 229/1108 [01:36<06:10,  2.37it/s]\r 21%|██        | 230/1108 [01:36<06:09,  2.38it/s]\r 21%|██        | 231/1108 [01:36<06:09,  2.37it/s]\r 21%|██        | 232/1108 [01:37<06:10,  2.36it/s]\r 21%|██        | 233/1108 [01:37<06:08,  2.37it/s]\r 21%|██        | 234/1108 [01:38<06:07,  2.38it/s]\r 21%|██        | 235/1108 [01:38<06:06,  2.38it/s]\r 21%|██▏       | 236/1108 [01:39<06:06,  2.38it/s]\r 21%|██▏       | 237/1108 [01:39<06:05,  2.38it/s]\r 21%|██▏       | 238/1108 [01:39<06:06,  2.38it/s]\r 22%|██▏       | 239/1108 [01:40<06:04,  2.39it/s]\r 22%|██▏       | 240/1108 [01:40<06:04,  2.38it/s]\r 22%|██▏       | 241/1108 [01:41<06:04,  2.38it/s]\r 22%|██▏       | 242/1108 [01:41<06:04,  2.38it/s]\r 22%|██▏       | 243/1108 [01:42<06:03,  2.38it/s]\r 22%|██▏       | 244/1108 [01:42<06:02,  2.38it/s]\r 22%|██▏       | 245/1108 [01:42<06:03,  2.37it/s]\r 22%|██▏       | 246/1108 [01:43<06:02,  2.38it/s]\r 22%|██▏       | 247/1108 [01:43<06:02,  2.38it/s]\r 22%|██▏       | 248/1108 [01:44<06:02,  2.37it/s]\r 22%|██▏       | 249/1108 [01:44<06:01,  2.38it/s]\r 23%|██▎       | 250/1108 [01:44<06:01,  2.37it/s]\r 23%|██▎       | 251/1108 [01:45<06:01,  2.37it/s]\r 23%|██▎       | 252/1108 [01:45<06:00,  2.38it/s]\r 23%|██▎       | 253/1108 [01:46<05:59,  2.38it/s]\r 23%|██▎       | 254/1108 [01:46<05:59,  2.37it/s]\r 23%|██▎       | 255/1108 [01:47<05:58,  2.38it/s]\r 23%|██▎       | 256/1108 [01:47<05:58,  2.38it/s]\r 23%|██▎       | 257/1108 [01:47<05:57,  2.38it/s]\r 23%|██▎       | 258/1108 [01:48<05:56,  2.38it/s]\r 23%|██▎       | 259/1108 [01:48<05:56,  2.38it/s]\r 23%|██▎       | 260/1108 [01:49<05:55,  2.38it/s]\r 24%|██▎       | 261/1108 [01:49<05:56,  2.38it/s]\r 24%|██▎       | 262/1108 [01:49<05:55,  2.38it/s]\r 24%|██▎       | 263/1108 [01:50<05:54,  2.38it/s]\r 24%|██▍       | 264/1108 [01:50<05:55,  2.38it/s]\r 24%|██▍       | 265/1108 [01:51<05:54,  2.38it/s]\r 24%|██▍       | 266/1108 [01:51<05:55,  2.37it/s]\r 24%|██▍       | 267/1108 [01:52<05:52,  2.38it/s]\r 24%|██▍       | 268/1108 [01:52<05:52,  2.38it/s]\r 24%|██▍       | 269/1108 [01:52<05:52,  2.38it/s]\r 24%|██▍       | 270/1108 [01:53<05:52,  2.38it/s]\r 24%|██▍       | 271/1108 [01:53<05:51,  2.38it/s]\r 25%|██▍       | 272/1108 [01:54<05:51,  2.38it/s]\r 25%|██▍       | 273/1108 [01:54<05:51,  2.38it/s]\r 25%|██▍       | 274/1108 [01:55<05:50,  2.38it/s]\r 25%|██▍       | 275/1108 [01:55<05:49,  2.38it/s]\r 25%|██▍       | 276/1108 [01:55<05:49,  2.38it/s]\r 25%|██▌       | 277/1108 [01:56<05:49,  2.38it/s]\r 25%|██▌       | 278/1108 [01:56<05:48,  2.38it/s]\r 25%|██▌       | 279/1108 [01:57<05:48,  2.38it/s]\r 25%|██▌       | 280/1108 [01:57<05:48,  2.38it/s]\r 25%|██▌       | 281/1108 [01:57<05:48,  2.37it/s]\r 25%|██▌       | 282/1108 [01:58<05:47,  2.38it/s]\r 26%|██▌       | 283/1108 [01:58<05:47,  2.38it/s]\r 26%|██▌       | 284/1108 [01:59<05:46,  2.38it/s]\r 26%|██▌       | 285/1108 [01:59<05:46,  2.38it/s]\r 26%|██▌       | 286/1108 [02:00<05:46,  2.37it/s]\r 26%|██▌       | 287/1108 [02:00<05:46,  2.37it/s]\r 26%|██▌       | 288/1108 [02:00<05:45,  2.37it/s]\r 26%|██▌       | 289/1108 [02:01<05:45,  2.37it/s]\r 26%|██▌       | 290/1108 [02:01<05:44,  2.38it/s]\r 26%|██▋       | 291/1108 [02:02<05:45,  2.37it/s]\r 26%|██▋       | 292/1108 [02:02<05:43,  2.37it/s]\r 26%|██▋       | 293/1108 [02:03<05:43,  2.37it/s]\r 27%|██▋       | 294/1108 [02:03<05:42,  2.38it/s]\r 27%|██▋       | 295/1108 [02:03<05:41,  2.38it/s]\r 27%|██▋       | 296/1108 [02:04<05:41,  2.38it/s]\r 27%|██▋       | 297/1108 [02:04<05:41,  2.37it/s]\r 27%|██▋       | 298/1108 [02:05<05:42,  2.36it/s]\r 27%|██▋       | 299/1108 [02:05<05:41,  2.37it/s]\r 27%|██▋       | 300/1108 [02:05<05:40,  2.37it/s]\r 27%|██▋       | 301/1108 [02:06<05:40,  2.37it/s]\r 27%|██▋       | 302/1108 [02:06<05:40,  2.37it/s]\r 27%|██▋       | 303/1108 [02:07<05:40,  2.37it/s]\r 27%|██▋       | 304/1108 [02:07<05:39,  2.37it/s]\r 28%|██▊       | 305/1108 [02:08<05:39,  2.37it/s]\r 28%|██▊       | 306/1108 [02:08<05:39,  2.37it/s]\r 28%|██▊       | 307/1108 [02:08<05:38,  2.37it/s]\r 28%|██▊       | 308/1108 [02:09<05:38,  2.36it/s]\r 28%|██▊       | 309/1108 [02:09<05:38,  2.36it/s]\r 28%|██▊       | 310/1108 [02:10<05:38,  2.36it/s]\r 28%|██▊       | 311/1108 [02:10<05:38,  2.35it/s]\r 28%|██▊       | 312/1108 [02:11<05:39,  2.35it/s]\r 28%|██▊       | 313/1108 [02:11<05:38,  2.35it/s]\r 28%|██▊       | 314/1108 [02:11<05:37,  2.35it/s]\r 28%|██▊       | 315/1108 [02:12<05:36,  2.36it/s]\r 29%|██▊       | 316/1108 [02:12<05:36,  2.35it/s]\r 29%|██▊       | 317/1108 [02:13<05:36,  2.35it/s]\r 29%|██▊       | 318/1108 [02:13<05:36,  2.34it/s]\r 29%|██▉       | 319/1108 [02:14<05:36,  2.35it/s]\r 29%|██▉       | 320/1108 [02:14<05:35,  2.35it/s]\r 29%|██▉       | 321/1108 [02:14<05:34,  2.35it/s]\r 29%|██▉       | 322/1108 [02:15<05:34,  2.35it/s]\r 29%|██▉       | 323/1108 [02:15<05:34,  2.35it/s]\r 29%|██▉       | 324/1108 [02:16<05:33,  2.35it/s]\r 29%|██▉       | 325/1108 [02:16<05:33,  2.35it/s]\r 29%|██▉       | 326/1108 [02:17<05:32,  2.35it/s]\r 30%|██▉       | 327/1108 [02:17<05:32,  2.35it/s]\r 30%|██▉       | 328/1108 [02:17<05:32,  2.35it/s]\r 30%|██▉       | 329/1108 [02:18<05:32,  2.35it/s]\r 30%|██▉       | 330/1108 [02:18<05:31,  2.35it/s]\r 30%|██▉       | 331/1108 [02:19<05:30,  2.35it/s]\r 30%|██▉       | 332/1108 [02:19<05:31,  2.34it/s]\r 30%|███       | 333/1108 [02:20<05:30,  2.34it/s]\r 30%|███       | 334/1108 [02:20<05:30,  2.34it/s]\r 30%|███       | 335/1108 [02:20<05:29,  2.34it/s]\r 30%|███       | 336/1108 [02:21<05:29,  2.34it/s]\r 30%|███       | 337/1108 [02:21<05:29,  2.34it/s]\r 31%|███       | 338/1108 [02:22<05:28,  2.34it/s]\r 31%|███       | 339/1108 [02:22<05:28,  2.34it/s]\r 31%|███       | 340/1108 [02:23<05:27,  2.34it/s]\r 31%|███       | 341/1108 [02:23<05:28,  2.34it/s]\r 31%|███       | 342/1108 [02:23<05:28,  2.33it/s]\r 31%|███       | 343/1108 [02:24<05:26,  2.34it/s]\r 31%|███       | 344/1108 [02:24<05:26,  2.34it/s]\r 31%|███       | 345/1108 [02:25<05:27,  2.33it/s]\r 31%|███       | 346/1108 [02:25<05:26,  2.34it/s]\r 31%|███▏      | 347/1108 [02:26<05:25,  2.34it/s]\r 31%|███▏      | 348/1108 [02:26<05:26,  2.33it/s]\r 31%|███▏      | 349/1108 [02:26<05:25,  2.33it/s]\r 32%|███▏      | 350/1108 [02:27<05:25,  2.33it/s]\r 32%|███▏      | 351/1108 [02:27<05:24,  2.33it/s]\r 32%|███▏      | 352/1108 [02:28<05:25,  2.33it/s]\r 32%|███▏      | 353/1108 [02:28<05:22,  2.34it/s]\r 32%|███▏      | 354/1108 [02:29<05:22,  2.34it/s]\r 32%|███▏      | 355/1108 [02:29<05:22,  2.34it/s]\r 32%|███▏      | 356/1108 [02:29<05:22,  2.33it/s]\r 32%|███▏      | 357/1108 [02:30<05:21,  2.34it/s]\r 32%|███▏      | 358/1108 [02:30<05:21,  2.33it/s]\r 32%|███▏      | 359/1108 [02:31<05:21,  2.33it/s]\r 32%|███▏      | 360/1108 [02:31<05:19,  2.34it/s]\r 33%|███▎      | 361/1108 [02:32<05:19,  2.34it/s]\r 33%|███▎      | 362/1108 [02:32<05:19,  2.33it/s]\r 33%|███▎      | 363/1108 [02:32<05:19,  2.33it/s]\r 33%|███▎      | 364/1108 [02:33<05:18,  2.33it/s]\r 33%|███▎      | 365/1108 [02:33<05:19,  2.33it/s]\r 33%|███▎      | 366/1108 [02:34<05:18,  2.33it/s]\r 33%|███▎      | 367/1108 [02:34<05:17,  2.33it/s]\r 33%|███▎      | 368/1108 [02:35<05:17,  2.33it/s]\r 33%|███▎      | 369/1108 [02:35<05:16,  2.34it/s]\r 33%|███▎      | 370/1108 [02:35<05:15,  2.34it/s]\r 33%|███▎      | 371/1108 [02:36<05:14,  2.34it/s]\r 34%|███▎      | 372/1108 [02:36<05:15,  2.34it/s]\r 34%|███▎      | 373/1108 [02:37<05:14,  2.34it/s]\r 34%|███▍      | 374/1108 [02:37<05:13,  2.34it/s]\r 34%|███▍      | 375/1108 [02:38<05:13,  2.34it/s]\r 34%|███▍      | 376/1108 [02:38<05:13,  2.34it/s]\r 34%|███▍      | 377/1108 [02:38<05:12,  2.34it/s]\r 34%|███▍      | 378/1108 [02:39<05:15,  2.31it/s]\r 34%|███▍      | 379/1108 [02:39<05:12,  2.34it/s]\r 34%|███▍      | 380/1108 [02:40<05:12,  2.33it/s]\r 34%|███▍      | 381/1108 [02:40<05:11,  2.33it/s]\r 34%|███▍      | 382/1108 [02:41<05:10,  2.34it/s]\r 35%|███▍      | 383/1108 [02:41<05:09,  2.34it/s]\r 35%|███▍      | 384/1108 [02:41<05:09,  2.34it/s]\r 35%|███▍      | 385/1108 [02:42<05:09,  2.34it/s]\r 35%|███▍      | 386/1108 [02:42<05:08,  2.34it/s]\r 35%|███▍      | 387/1108 [02:43<05:08,  2.34it/s]\r 35%|███▌      | 388/1108 [02:43<05:07,  2.34it/s]\r 35%|███▌      | 389/1108 [02:43<05:07,  2.34it/s]\r 35%|███▌      | 390/1108 [02:44<05:06,  2.34it/s]\r 35%|███▌      | 391/1108 [02:44<05:06,  2.34it/s]\r 35%|███▌      | 392/1108 [02:45<05:05,  2.34it/s]\r 35%|███▌      | 393/1108 [02:45<05:05,  2.34it/s]\r 36%|███▌      | 394/1108 [02:46<05:04,  2.34it/s]\r 36%|███▌      | 395/1108 [02:46<05:04,  2.34it/s]\r 36%|███▌      | 396/1108 [02:46<05:03,  2.35it/s]\r 36%|███▌      | 397/1108 [02:47<05:04,  2.33it/s]\r 36%|███▌      | 398/1108 [02:47<05:03,  2.34it/s]\r 36%|███▌      | 399/1108 [02:48<05:02,  2.34it/s]\r 36%|███▌      | 400/1108 [02:48<05:01,  2.34it/s]\r 36%|███▌      | 401/1108 [02:49<05:01,  2.34it/s]\r 36%|███▋      | 402/1108 [02:49<05:02,  2.33it/s]\r 36%|███▋      | 403/1108 [02:49<05:00,  2.34it/s]\r 36%|███▋      | 404/1108 [02:50<05:00,  2.34it/s]\r 37%|███▋      | 405/1108 [02:50<04:59,  2.35it/s]\r 37%|███▋      | 406/1108 [02:51<04:59,  2.34it/s]\r 37%|███▋      | 407/1108 [02:51<04:58,  2.35it/s]\r 37%|███▋      | 408/1108 [02:52<04:58,  2.35it/s]\r 37%|███▋      | 409/1108 [02:52<04:58,  2.35it/s]\r 37%|███▋      | 410/1108 [02:52<04:57,  2.35it/s]\r 37%|███▋      | 411/1108 [02:53<04:57,  2.35it/s]\r 37%|███▋      | 412/1108 [02:53<04:56,  2.35it/s]\r 37%|███▋      | 413/1108 [02:54<04:56,  2.35it/s]\r 37%|███▋      | 414/1108 [02:54<04:55,  2.35it/s]\r 37%|███▋      | 415/1108 [02:55<04:54,  2.35it/s]\r 38%|███▊      | 416/1108 [02:55<04:55,  2.34it/s]\r 38%|███▊      | 417/1108 [02:55<04:54,  2.35it/s]\r 38%|███▊      | 418/1108 [02:56<04:53,  2.35it/s]\r 38%|███▊      | 419/1108 [02:56<04:52,  2.35it/s]\r 38%|███▊      | 420/1108 [02:57<04:52,  2.35it/s]\r 38%|███▊      | 421/1108 [02:57<04:52,  2.35it/s]\r 38%|███▊      | 422/1108 [02:58<04:51,  2.35it/s]\r 38%|███▊      | 423/1108 [02:58<04:51,  2.35it/s]\r 38%|███▊      | 424/1108 [02:58<04:50,  2.35it/s]\r 38%|███▊      | 425/1108 [02:59<04:50,  2.35it/s]\r 38%|███▊      | 426/1108 [02:59<04:49,  2.35it/s]\r 39%|███▊      | 427/1108 [03:00<04:49,  2.35it/s]\r 39%|███▊      | 428/1108 [03:00<04:49,  2.35it/s]\r 39%|███▊      | 429/1108 [03:01<04:48,  2.35it/s]\r 39%|███▉      | 430/1108 [03:01<04:48,  2.35it/s]\r 39%|███▉      | 431/1108 [03:01<04:47,  2.36it/s]\r 39%|███▉      | 432/1108 [03:02<04:46,  2.36it/s]\r 39%|███▉      | 433/1108 [03:02<04:46,  2.36it/s]\r 39%|███▉      | 434/1108 [03:03<04:45,  2.36it/s]\r 39%|███▉      | 435/1108 [03:03<04:45,  2.35it/s]\r 39%|███▉      | 436/1108 [03:04<04:45,  2.35it/s]\r 39%|███▉      | 437/1108 [03:04<04:44,  2.35it/s]\r 40%|███▉      | 438/1108 [03:04<04:44,  2.36it/s]\r 40%|███▉      | 439/1108 [03:05<04:44,  2.35it/s]\r 40%|███▉      | 440/1108 [03:05<04:43,  2.35it/s]\r 40%|███▉      | 441/1108 [03:06<04:43,  2.35it/s]\r 40%|███▉      | 442/1108 [03:06<04:43,  2.35it/s]\r 40%|███▉      | 443/1108 [03:06<04:42,  2.36it/s]\r 40%|████      | 444/1108 [03:07<04:41,  2.36it/s]\r 40%|████      | 445/1108 [03:07<04:41,  2.36it/s]\r 40%|████      | 446/1108 [03:08<04:40,  2.36it/s]\r 40%|████      | 447/1108 [03:08<04:40,  2.35it/s]\r 40%|████      | 448/1108 [03:09<04:40,  2.35it/s]\r 41%|████      | 449/1108 [03:09<04:40,  2.35it/s]\r 41%|████      | 450/1108 [03:09<04:39,  2.35it/s]\r 41%|████      | 451/1108 [03:10<04:38,  2.36it/s]\r 41%|████      | 452/1108 [03:10<04:38,  2.36it/s]\r 41%|████      | 453/1108 [03:11<04:38,  2.35it/s]\r 41%|████      | 454/1108 [03:11<04:37,  2.36it/s]\r 41%|████      | 455/1108 [03:12<04:37,  2.36it/s]\r 41%|████      | 456/1108 [03:12<04:36,  2.36it/s]\r 41%|████      | 457/1108 [03:12<04:38,  2.34it/s]\r 41%|████▏     | 458/1108 [03:13<04:35,  2.36it/s]\r 41%|████▏     | 459/1108 [03:13<04:35,  2.36it/s]\r 42%|████▏     | 460/1108 [03:14<04:34,  2.36it/s]\r 42%|████▏     | 461/1108 [03:14<04:34,  2.35it/s]\r 42%|████▏     | 462/1108 [03:15<04:34,  2.36it/s]\r 42%|████▏     | 463/1108 [03:15<04:33,  2.36it/s]\r 42%|████▏     | 464/1108 [03:15<04:33,  2.36it/s]\r 42%|████▏     | 465/1108 [03:16<04:32,  2.36it/s]\r 42%|████▏     | 466/1108 [03:16<04:32,  2.36it/s]\r 42%|████▏     | 467/1108 [03:17<04:31,  2.36it/s]\r 42%|████▏     | 468/1108 [03:17<04:30,  2.36it/s]\r 42%|████▏     | 469/1108 [03:18<04:30,  2.36it/s]\r 42%|████▏     | 470/1108 [03:18<04:29,  2.36it/s]\r 43%|████▎     | 471/1108 [03:18<04:30,  2.36it/s]\r 43%|████▎     | 472/1108 [03:19<04:29,  2.36it/s]\r 43%|████▎     | 473/1108 [03:19<04:28,  2.37it/s]\r 43%|████▎     | 474/1108 [03:20<04:28,  2.36it/s]\r 43%|████▎     | 475/1108 [03:20<04:27,  2.37it/s]\r 43%|████▎     | 476/1108 [03:20<04:26,  2.37it/s]\r 43%|████▎     | 477/1108 [03:21<04:26,  2.37it/s]\r 43%|████▎     | 478/1108 [03:21<04:27,  2.35it/s]\r 43%|████▎     | 479/1108 [03:22<04:25,  2.37it/s]\r 43%|████▎     | 480/1108 [03:22<04:25,  2.37it/s]\r 43%|████▎     | 481/1108 [03:23<04:25,  2.36it/s]\r 44%|████▎     | 482/1108 [03:23<04:24,  2.36it/s]\r 44%|████▎     | 483/1108 [03:23<04:24,  2.36it/s]\r 44%|████▎     | 484/1108 [03:24<04:24,  2.36it/s]\r 44%|████▍     | 485/1108 [03:24<04:24,  2.36it/s]\r 44%|████▍     | 486/1108 [03:25<04:23,  2.36it/s]\r 44%|████▍     | 487/1108 [03:25<04:23,  2.36it/s]\r 44%|████▍     | 488/1108 [03:26<04:23,  2.36it/s]\r 44%|████▍     | 489/1108 [03:26<04:22,  2.36it/s]\r 44%|████▍     | 490/1108 [03:26<04:23,  2.35it/s]\r 44%|████▍     | 491/1108 [03:27<04:21,  2.36it/s]\r 44%|████▍     | 492/1108 [03:27<04:21,  2.36it/s]\r 44%|████▍     | 493/1108 [03:28<04:21,  2.36it/s]\r 45%|████▍     | 494/1108 [03:28<04:20,  2.36it/s]\r 45%|████▍     | 495/1108 [03:29<04:20,  2.36it/s]\r 45%|████▍     | 496/1108 [03:29<04:19,  2.36it/s]\r 45%|████▍     | 497/1108 [03:29<04:18,  2.36it/s]\r 45%|████▍     | 498/1108 [03:30<04:18,  2.36it/s]\r 45%|████▌     | 499/1108 [03:30<04:17,  2.36it/s]\r 45%|████▌     | 500/1108 [03:31<04:18,  2.35it/s]\r                                                  \r\r 45%|████▌     | 500/1108 [03:31<04:18,  2.35it/s]\r 45%|████▌     | 501/1108 [03:31<04:18,  2.35it/s]\r 45%|████▌     | 502/1108 [03:32<04:17,  2.35it/s]\r 45%|████▌     | 503/1108 [03:32<04:16,  2.36it/s]\r 45%|████▌     | 504/1108 [03:32<04:15,  2.36it/s]\r 46%|████▌     | 505/1108 [03:33<04:15,  2.36it/s]\r 46%|████▌     | 506/1108 [03:33<04:15,  2.36it/s]\r 46%|████▌     | 507/1108 [03:34<04:14,  2.36it/s]\r 46%|████▌     | 508/1108 [03:34<04:14,  2.36it/s]\r 46%|████▌     | 509/1108 [03:34<04:14,  2.35it/s]\r 46%|████▌     | 510/1108 [03:35<04:14,  2.35it/s]\r 46%|████▌     | 511/1108 [03:35<04:12,  2.36it/s]\r 46%|████▌     | 512/1108 [03:36<04:12,  2.36it/s]\r 46%|████▋     | 513/1108 [03:36<04:13,  2.35it/s]\r 46%|████▋     | 514/1108 [03:37<04:12,  2.35it/s]\r 46%|████▋     | 515/1108 [03:37<04:12,  2.35it/s]\r 47%|████▋     | 516/1108 [03:37<04:12,  2.35it/s]\r 47%|████▋     | 517/1108 [03:38<04:11,  2.35it/s]\r 47%|████▋     | 518/1108 [03:38<04:10,  2.35it/s]\r 47%|████▋     | 519/1108 [03:39<04:10,  2.35it/s]\r 47%|████▋     | 520/1108 [03:39<04:09,  2.35it/s]\r 47%|████▋     | 521/1108 [03:40<04:10,  2.34it/s]\r 47%|████▋     | 522/1108 [03:40<04:09,  2.35it/s]\r 47%|████▋     | 523/1108 [03:40<04:09,  2.35it/s]\r 47%|████▋     | 524/1108 [03:41<04:08,  2.35it/s]\r 47%|████▋     | 525/1108 [03:41<04:07,  2.35it/s]\r 47%|████▋     | 526/1108 [03:42<04:07,  2.35it/s]\r 48%|████▊     | 527/1108 [03:42<04:07,  2.35it/s]\r 48%|████▊     | 528/1108 [03:43<04:07,  2.35it/s]\r 48%|████▊     | 529/1108 [03:43<04:06,  2.35it/s]\r 48%|████▊     | 530/1108 [03:43<04:05,  2.35it/s]\r 48%|████▊     | 531/1108 [03:44<04:05,  2.35it/s]\r 48%|████▊     | 532/1108 [03:44<04:04,  2.35it/s]\r 48%|████▊     | 533/1108 [03:45<04:04,  2.36it/s]\r 48%|████▊     | 534/1108 [03:45<04:03,  2.36it/s]\r 48%|████▊     | 535/1108 [03:46<04:03,  2.36it/s]\r 48%|████▊     | 536/1108 [03:46<04:03,  2.35it/s]\r 48%|████▊     | 537/1108 [03:46<04:02,  2.36it/s]\r 49%|████▊     | 538/1108 [03:47<04:02,  2.35it/s]\r 49%|████▊     | 539/1108 [03:47<04:02,  2.35it/s]\r 49%|████▊     | 540/1108 [03:48<04:01,  2.36it/s]\r 49%|████▉     | 541/1108 [03:48<04:00,  2.35it/s]\r 49%|████▉     | 542/1108 [03:48<04:00,  2.35it/s]\r 49%|████▉     | 543/1108 [03:49<04:00,  2.35it/s]\r 49%|████▉     | 544/1108 [03:49<04:00,  2.35it/s]\r 49%|████▉     | 545/1108 [03:50<04:00,  2.34it/s]\r 49%|████▉     | 546/1108 [03:50<03:59,  2.35it/s]\r 49%|████▉     | 547/1108 [03:51<03:59,  2.34it/s]\r 49%|████▉     | 548/1108 [03:51<03:58,  2.35it/s]\r 50%|████▉     | 549/1108 [03:51<03:57,  2.35it/s]\r 50%|████▉     | 550/1108 [03:52<03:57,  2.35it/s]\r 50%|████▉     | 551/1108 [03:52<03:57,  2.35it/s]\r 50%|████▉     | 552/1108 [03:53<03:56,  2.35it/s]\r 50%|████▉     | 553/1108 [03:53<03:56,  2.35it/s]\r 50%|█████     | 554/1108 [03:54<03:56,  2.35it/s]\r 50%|█████     | 555/1108 [03:54<03:55,  2.35it/s]\r 50%|█████     | 556/1108 [03:54<03:55,  2.35it/s]\r 50%|█████     | 557/1108 [03:55<03:54,  2.35it/s]\r 50%|█████     | 558/1108 [03:55<03:53,  2.35it/s]\r 50%|█████     | 559/1108 [03:56<03:54,  2.34it/s]\r 51%|█████     | 560/1108 [03:56<03:53,  2.34it/s]\r 51%|█████     | 561/1108 [03:57<03:53,  2.34it/s]\r 51%|█████     | 562/1108 [03:57<03:52,  2.35it/s]\r 51%|█████     | 563/1108 [03:57<03:52,  2.35it/s]\r 51%|█████     | 564/1108 [03:58<03:52,  2.34it/s]\r 51%|█████     | 565/1108 [03:58<03:51,  2.35it/s]\r 51%|█████     | 566/1108 [03:59<03:51,  2.34it/s]\r 51%|█████     | 567/1108 [03:59<03:51,  2.34it/s]\r 51%|█████▏    | 568/1108 [04:00<03:50,  2.35it/s]\r 51%|█████▏    | 569/1108 [04:00<03:49,  2.35it/s]\r 51%|█████▏    | 570/1108 [04:00<03:49,  2.34it/s]\r 52%|█████▏    | 571/1108 [04:01<03:50,  2.33it/s]\r 52%|█████▏    | 572/1108 [04:01<03:48,  2.35it/s]\r 52%|█████▏    | 573/1108 [04:02<03:48,  2.34it/s]\r 52%|█████▏    | 574/1108 [04:02<03:47,  2.35it/s]\r 52%|█████▏    | 575/1108 [04:03<03:47,  2.35it/s]\r 52%|█████▏    | 576/1108 [04:03<03:46,  2.35it/s]\r 52%|█████▏    | 577/1108 [04:03<03:45,  2.35it/s]\r 52%|█████▏    | 578/1108 [04:04<03:45,  2.35it/s]\r 52%|█████▏    | 579/1108 [04:04<03:45,  2.35it/s]\r 52%|█████▏    | 580/1108 [04:05<03:44,  2.35it/s]\r 52%|█████▏    | 581/1108 [04:05<03:44,  2.34it/s]\r 53%|█████▎    | 582/1108 [04:06<03:44,  2.35it/s]\r 53%|█████▎    | 583/1108 [04:06<03:43,  2.35it/s]\r 53%|█████▎    | 584/1108 [04:06<03:42,  2.35it/s]\r 53%|█████▎    | 585/1108 [04:07<03:42,  2.35it/s]\r 53%|█████▎    | 586/1108 [04:07<03:42,  2.35it/s]\r 53%|█████▎    | 587/1108 [04:08<03:41,  2.35it/s]\r 53%|█████▎    | 588/1108 [04:08<03:40,  2.35it/s]\r 53%|█████▎    | 589/1108 [04:09<03:41,  2.35it/s]\r 53%|█████▎    | 590/1108 [04:09<03:41,  2.34it/s]\r 53%|█████▎    | 591/1108 [04:09<03:40,  2.34it/s]\r 53%|█████▎    | 592/1108 [04:10<03:41,  2.33it/s]\r 54%|█████▎    | 593/1108 [04:10<03:39,  2.35it/s]\r 54%|█████▎    | 594/1108 [04:11<03:38,  2.35it/s]\r 54%|█████▎    | 595/1108 [04:11<03:38,  2.35it/s]\r 54%|█████▍    | 596/1108 [04:12<03:38,  2.35it/s]\r 54%|█████▍    | 597/1108 [04:12<03:37,  2.35it/s]\r 54%|█████▍    | 598/1108 [04:12<03:37,  2.35it/s]\r 54%|█████▍    | 599/1108 [04:13<03:36,  2.35it/s]\r 54%|█████▍    | 600/1108 [04:13<03:36,  2.35it/s]\r 54%|█████▍    | 601/1108 [04:14<03:35,  2.35it/s]\r 54%|█████▍    | 602/1108 [04:14<03:35,  2.35it/s]\r 54%|█████▍    | 603/1108 [04:15<03:35,  2.34it/s]\r 55%|█████▍    | 604/1108 [04:15<03:34,  2.35it/s]\r 55%|█████▍    | 605/1108 [04:15<03:34,  2.34it/s]\r 55%|█████▍    | 606/1108 [04:16<03:34,  2.34it/s]\r 55%|█████▍    | 607/1108 [04:16<03:33,  2.35it/s]\r 55%|█████▍    | 608/1108 [04:17<03:33,  2.35it/s]\r 55%|█████▍    | 609/1108 [04:17<03:33,  2.34it/s]\r 55%|█████▌    | 610/1108 [04:17<03:33,  2.34it/s]\r 55%|█████▌    | 611/1108 [04:18<03:32,  2.34it/s]\r 55%|█████▌    | 612/1108 [04:18<03:32,  2.34it/s]\r 55%|█████▌    | 613/1108 [04:19<03:32,  2.33it/s]\r 55%|█████▌    | 614/1108 [04:19<03:30,  2.34it/s]\r 56%|█████▌    | 615/1108 [04:20<03:30,  2.35it/s]\r 56%|█████▌    | 616/1108 [04:20<03:29,  2.35it/s]\r 56%|█████▌    | 617/1108 [04:20<03:29,  2.34it/s]\r 56%|█████▌    | 618/1108 [04:21<03:28,  2.35it/s]\r 56%|█████▌    | 619/1108 [04:21<03:28,  2.34it/s]\r 56%|█████▌    | 620/1108 [04:22<03:28,  2.34it/s]\r 56%|█████▌    | 621/1108 [04:22<03:28,  2.34it/s]\r 56%|█████▌    | 622/1108 [04:23<03:27,  2.34it/s]\r 56%|█████▌    | 623/1108 [04:23<03:27,  2.34it/s]\r 56%|█████▋    | 624/1108 [04:23<03:26,  2.34it/s]\r 56%|█████▋    | 625/1108 [04:24<03:26,  2.34it/s]\r 56%|█████▋    | 626/1108 [04:24<03:26,  2.34it/s]\r 57%|█████▋    | 627/1108 [04:25<03:25,  2.34it/s]\r 57%|█████▋    | 628/1108 [04:25<03:25,  2.34it/s]\r 57%|█████▋    | 629/1108 [04:26<03:24,  2.34it/s]\r 57%|█████▋    | 630/1108 [04:26<03:23,  2.34it/s]\r 57%|█████▋    | 631/1108 [04:26<03:23,  2.34it/s]\r 57%|█████▋    | 632/1108 [04:27<03:23,  2.34it/s]\r 57%|█████▋    | 633/1108 [04:27<03:22,  2.34it/s]\r 57%|█████▋    | 634/1108 [04:28<03:22,  2.34it/s]\r 57%|█████▋    | 635/1108 [04:28<03:22,  2.34it/s]\r 57%|█████▋    | 636/1108 [04:29<03:21,  2.34it/s]\r 57%|█████▋    | 637/1108 [04:29<03:21,  2.34it/s]\r 58%|█████▊    | 638/1108 [04:29<03:20,  2.34it/s]\r 58%|█████▊    | 639/1108 [04:30<03:20,  2.33it/s]\r 58%|█████▊    | 640/1108 [04:30<03:19,  2.34it/s]\r 58%|█████▊    | 641/1108 [04:31<03:19,  2.34it/s]\r 58%|█████▊    | 642/1108 [04:31<03:18,  2.34it/s]\r 58%|█████▊    | 643/1108 [04:32<03:18,  2.34it/s]\r 58%|█████▊    | 644/1108 [04:32<03:18,  2.34it/s]\r 58%|█████▊    | 645/1108 [04:32<03:17,  2.34it/s]\r 58%|█████▊    | 646/1108 [04:33<03:17,  2.34it/s]\r 58%|█████▊    | 647/1108 [04:33<03:16,  2.35it/s]\r 58%|█████▊    | 648/1108 [04:34<03:16,  2.34it/s]\r 59%|█████▊    | 649/1108 [04:34<03:15,  2.34it/s]\r 59%|█████▊    | 650/1108 [04:35<03:15,  2.34it/s]\r 59%|█████▉    | 651/1108 [04:35<03:14,  2.35it/s]\r 59%|█████▉    | 652/1108 [04:35<03:14,  2.34it/s]\r 59%|█████▉    | 653/1108 [04:36<03:14,  2.34it/s]\r 59%|█████▉    | 654/1108 [04:36<03:15,  2.32it/s]\r 59%|█████▉    | 655/1108 [04:37<03:13,  2.34it/s]\r 59%|█████▉    | 656/1108 [04:37<03:12,  2.34it/s]\r 59%|█████▉    | 657/1108 [04:38<03:12,  2.34it/s]\r 59%|█████▉    | 658/1108 [04:38<03:12,  2.34it/s]\r 59%|█████▉    | 659/1108 [04:38<03:12,  2.34it/s]\r 60%|█████▉    | 660/1108 [04:39<03:11,  2.34it/s]\r 60%|█████▉    | 661/1108 [04:39<03:11,  2.34it/s]\r 60%|█████▉    | 662/1108 [04:40<03:11,  2.33it/s]\r 60%|█████▉    | 663/1108 [04:40<03:10,  2.34it/s]\r 60%|█████▉    | 664/1108 [04:41<03:08,  2.35it/s]\r 60%|██████    | 665/1108 [04:41<03:08,  2.35it/s]\r 60%|██████    | 666/1108 [04:41<03:08,  2.34it/s]\r 60%|██████    | 667/1108 [04:42<03:08,  2.35it/s]\r 60%|██████    | 668/1108 [04:42<03:07,  2.35it/s]\r 60%|██████    | 669/1108 [04:43<03:07,  2.34it/s]\r 60%|██████    | 670/1108 [04:43<03:07,  2.34it/s]\r 61%|██████    | 671/1108 [04:44<03:07,  2.33it/s]\r 61%|██████    | 672/1108 [04:44<03:06,  2.34it/s]\r 61%|██████    | 673/1108 [04:44<03:06,  2.33it/s]\r 61%|██████    | 674/1108 [04:45<03:06,  2.33it/s]\r 61%|██████    | 675/1108 [04:45<03:05,  2.33it/s]\r 61%|██████    | 676/1108 [04:46<03:04,  2.34it/s]\r 61%|██████    | 677/1108 [04:46<03:04,  2.34it/s]\r 61%|██████    | 678/1108 [04:47<03:04,  2.34it/s]\r 61%|██████▏   | 679/1108 [04:47<03:03,  2.34it/s]\r 61%|██████▏   | 680/1108 [04:47<03:03,  2.34it/s]\r 61%|██████▏   | 681/1108 [04:48<03:02,  2.34it/s]\r 62%|██████▏   | 682/1108 [04:48<03:01,  2.34it/s]\r 62%|██████▏   | 683/1108 [04:49<03:01,  2.34it/s]\r 62%|██████▏   | 684/1108 [04:49<03:01,  2.34it/s]\r 62%|██████▏   | 685/1108 [04:50<03:01,  2.34it/s]\r 62%|██████▏   | 686/1108 [04:50<03:00,  2.33it/s]\r 62%|██████▏   | 687/1108 [04:50<03:00,  2.34it/s]\r 62%|██████▏   | 688/1108 [04:51<02:59,  2.34it/s]\r 62%|██████▏   | 689/1108 [04:51<02:59,  2.34it/s]\r 62%|██████▏   | 690/1108 [04:52<02:58,  2.34it/s]\r 62%|██████▏   | 691/1108 [04:52<02:58,  2.34it/s]\r 62%|██████▏   | 692/1108 [04:53<02:58,  2.34it/s]\r 63%|██████▎   | 693/1108 [04:53<02:58,  2.33it/s]\r 63%|██████▎   | 694/1108 [04:53<02:57,  2.34it/s]\r 63%|██████▎   | 695/1108 [04:54<02:56,  2.33it/s]\r 63%|██████▎   | 696/1108 [04:54<02:56,  2.33it/s]\r 63%|██████▎   | 697/1108 [04:55<02:56,  2.33it/s]\r 63%|██████▎   | 698/1108 [04:55<02:55,  2.34it/s]\r 63%|██████▎   | 699/1108 [04:56<02:55,  2.32it/s]\r 63%|██████▎   | 700/1108 [04:56<02:54,  2.34it/s]\r 63%|██████▎   | 701/1108 [04:56<02:54,  2.34it/s]\r 63%|██████▎   | 702/1108 [04:57<02:54,  2.33it/s]\r 63%|██████▎   | 703/1108 [04:57<02:53,  2.34it/s]\r 64%|██████▎   | 704/1108 [04:58<02:52,  2.34it/s]\r 64%|██████▎   | 705/1108 [04:58<02:52,  2.34it/s]\r 64%|██████▎   | 706/1108 [04:59<02:51,  2.34it/s]\r 64%|██████▍   | 707/1108 [04:59<02:51,  2.34it/s]\r 64%|██████▍   | 708/1108 [04:59<02:50,  2.34it/s]\r 64%|██████▍   | 709/1108 [05:00<02:50,  2.34it/s]\r 64%|██████▍   | 710/1108 [05:00<02:50,  2.34it/s]\r 64%|██████▍   | 711/1108 [05:01<02:49,  2.34it/s]\r 64%|██████▍   | 712/1108 [05:01<02:49,  2.34it/s]\r 64%|██████▍   | 713/1108 [05:02<02:48,  2.35it/s]\r 64%|██████▍   | 714/1108 [05:02<02:47,  2.35it/s]\r 65%|██████▍   | 715/1108 [05:02<02:47,  2.34it/s]\r 65%|██████▍   | 716/1108 [05:03<02:47,  2.35it/s]\r 65%|██████▍   | 717/1108 [05:03<02:46,  2.35it/s]\r 65%|██████▍   | 718/1108 [05:04<02:46,  2.34it/s]\r 65%|██████▍   | 719/1108 [05:04<02:46,  2.34it/s]\r 65%|██████▍   | 720/1108 [05:05<02:45,  2.34it/s]\r 65%|██████▌   | 721/1108 [05:05<02:45,  2.34it/s]\r 65%|██████▌   | 722/1108 [05:05<02:44,  2.34it/s]\r 65%|██████▌   | 723/1108 [05:06<02:44,  2.34it/s]\r 65%|██████▌   | 724/1108 [05:06<02:44,  2.34it/s]\r 65%|██████▌   | 725/1108 [05:07<02:43,  2.34it/s]\r 66%|██████▌   | 726/1108 [05:07<02:43,  2.34it/s]\r 66%|██████▌   | 727/1108 [05:07<02:42,  2.34it/s]\r 66%|██████▌   | 728/1108 [05:08<02:42,  2.34it/s]\r 66%|██████▌   | 729/1108 [05:08<02:41,  2.35it/s]\r 66%|██████▌   | 730/1108 [05:09<02:41,  2.34it/s]\r 66%|██████▌   | 731/1108 [05:09<02:41,  2.34it/s]\r 66%|██████▌   | 732/1108 [05:10<02:40,  2.34it/s]\r 66%|██████▌   | 733/1108 [05:10<02:40,  2.34it/s]\r 66%|██████▌   | 734/1108 [05:10<02:39,  2.34it/s]\r 66%|██████▋   | 735/1108 [05:11<02:39,  2.34it/s]\r 66%|██████▋   | 736/1108 [05:11<02:38,  2.34it/s]\r 67%|██████▋   | 737/1108 [05:12<02:38,  2.34it/s]\r 67%|██████▋   | 738/1108 [05:12<02:37,  2.34it/s]\r 67%|██████▋   | 739/1108 [05:13<02:37,  2.34it/s]\r 67%|██████▋   | 740/1108 [05:13<02:36,  2.35it/s]\r 67%|██████▋   | 741/1108 [05:13<02:36,  2.35it/s]\r 67%|██████▋   | 742/1108 [05:14<02:36,  2.34it/s]\r 67%|██████▋   | 743/1108 [05:14<02:35,  2.34it/s]\r 67%|██████▋   | 744/1108 [05:15<02:35,  2.34it/s]\r 67%|██████▋   | 745/1108 [05:15<02:34,  2.34it/s]\r 67%|██████▋   | 746/1108 [05:16<02:34,  2.34it/s]\r 67%|██████▋   | 747/1108 [05:16<02:34,  2.34it/s]\r 68%|██████▊   | 748/1108 [05:16<02:33,  2.34it/s]\r 68%|██████▊   | 749/1108 [05:17<02:33,  2.34it/s]\r 68%|██████▊   | 750/1108 [05:17<02:32,  2.34it/s]\r 68%|██████▊   | 751/1108 [05:18<02:32,  2.34it/s]\r 68%|██████▊   | 752/1108 [05:18<02:31,  2.35it/s]\r 68%|██████▊   | 753/1108 [05:19<02:31,  2.35it/s]\r 68%|██████▊   | 754/1108 [05:19<02:30,  2.35it/s]\r 68%|██████▊   | 755/1108 [05:19<02:30,  2.35it/s]\r 68%|██████▊   | 756/1108 [05:20<02:30,  2.34it/s]\r 68%|██████▊   | 757/1108 [05:20<02:29,  2.34it/s]\r 68%|██████▊   | 758/1108 [05:21<02:29,  2.34it/s]\r 69%|██████▊   | 759/1108 [05:21<02:28,  2.34it/s]\r 69%|██████▊   | 760/1108 [05:22<02:28,  2.34it/s]\r 69%|██████▊   | 761/1108 [05:22<02:27,  2.35it/s]\r 69%|██████▉   | 762/1108 [05:22<02:27,  2.35it/s]\r 69%|██████▉   | 763/1108 [05:23<02:26,  2.35it/s]\r 69%|██████▉   | 764/1108 [05:23<02:26,  2.35it/s]\r 69%|██████▉   | 765/1108 [05:24<02:25,  2.35it/s]\r 69%|██████▉   | 766/1108 [05:24<02:25,  2.35it/s]\r 69%|██████▉   | 767/1108 [05:25<02:25,  2.34it/s]\r 69%|██████▉   | 768/1108 [05:25<02:25,  2.34it/s]\r 69%|██████▉   | 769/1108 [05:25<02:24,  2.34it/s]\r 69%|██████▉   | 770/1108 [05:26<02:24,  2.34it/s]\r 70%|██████▉   | 771/1108 [05:26<02:23,  2.34it/s]\r 70%|██████▉   | 772/1108 [05:27<02:23,  2.34it/s]\r 70%|██████▉   | 773/1108 [05:27<02:23,  2.34it/s]\r 70%|██████▉   | 774/1108 [05:28<02:22,  2.34it/s]\r 70%|██████▉   | 775/1108 [05:28<02:22,  2.34it/s]\r 70%|███████   | 776/1108 [05:28<02:21,  2.35it/s]\r 70%|███████   | 777/1108 [05:29<02:21,  2.34it/s]\r 70%|███████   | 778/1108 [05:29<02:20,  2.35it/s]\r 70%|███████   | 779/1108 [05:30<02:20,  2.35it/s]\r 70%|███████   | 780/1108 [05:30<02:19,  2.35it/s]\r 70%|███████   | 781/1108 [05:31<02:19,  2.34it/s]\r 71%|███████   | 782/1108 [05:31<02:18,  2.35it/s]\r 71%|███████   | 783/1108 [05:31<02:18,  2.35it/s]\r 71%|███████   | 784/1108 [05:32<02:18,  2.34it/s]\r 71%|███████   | 785/1108 [05:32<02:17,  2.35it/s]\r 71%|███████   | 786/1108 [05:33<02:17,  2.35it/s]\r 71%|███████   | 787/1108 [05:33<02:16,  2.34it/s]\r 71%|███████   | 788/1108 [05:34<02:16,  2.34it/s]\r 71%|███████   | 789/1108 [05:34<02:17,  2.33it/s]\r 71%|███████▏  | 790/1108 [05:34<02:16,  2.34it/s]\r 71%|███████▏  | 791/1108 [05:35<02:15,  2.34it/s]\r 71%|███████▏  | 792/1108 [05:35<02:15,  2.34it/s]\r 72%|███████▏  | 793/1108 [05:36<02:14,  2.34it/s]\r 72%|███████▏  | 794/1108 [05:36<02:14,  2.34it/s]\r 72%|███████▏  | 795/1108 [05:37<02:13,  2.34it/s]\r 72%|███████▏  | 796/1108 [05:37<02:13,  2.34it/s]\r 72%|███████▏  | 797/1108 [05:37<02:12,  2.34it/s]\r 72%|███████▏  | 798/1108 [05:38<02:12,  2.34it/s]\r 72%|███████▏  | 799/1108 [05:38<02:11,  2.35it/s]\r 72%|███████▏  | 800/1108 [05:39<02:11,  2.34it/s]\r 72%|███████▏  | 801/1108 [05:39<02:11,  2.34it/s]\r 72%|███████▏  | 802/1108 [05:40<02:10,  2.35it/s]\r 72%|███████▏  | 803/1108 [05:40<02:10,  2.34it/s]\r 73%|███████▎  | 804/1108 [05:40<02:09,  2.35it/s]\r 73%|███████▎  | 805/1108 [05:41<02:08,  2.35it/s]\r 73%|███████▎  | 806/1108 [05:41<02:08,  2.36it/s]\r 73%|███████▎  | 807/1108 [05:42<02:08,  2.35it/s]\r 73%|███████▎  | 808/1108 [05:42<02:07,  2.35it/s]\r 73%|███████▎  | 809/1108 [05:42<02:07,  2.35it/s]\r 73%|███████▎  | 810/1108 [05:43<02:06,  2.35it/s]\r 73%|███████▎  | 811/1108 [05:43<02:06,  2.35it/s]\r 73%|███████▎  | 812/1108 [05:44<02:06,  2.34it/s]\r 73%|███████▎  | 813/1108 [05:44<02:05,  2.35it/s]\r 73%|███████▎  | 814/1108 [05:45<02:05,  2.35it/s]\r 74%|███████▎  | 815/1108 [05:45<02:04,  2.34it/s]\r 74%|███████▎  | 816/1108 [05:45<02:04,  2.34it/s]\r 74%|███████▎  | 817/1108 [05:46<02:03,  2.35it/s]\r 74%|███████▍  | 818/1108 [05:46<02:03,  2.35it/s]\r 74%|███████▍  | 819/1108 [05:47<02:03,  2.35it/s]\r 74%|███████▍  | 820/1108 [05:47<02:03,  2.34it/s]\r 74%|███████▍  | 821/1108 [05:48<02:01,  2.35it/s]\r 74%|███████▍  | 822/1108 [05:48<02:01,  2.35it/s]\r 74%|███████▍  | 823/1108 [05:48<02:01,  2.35it/s]\r 74%|███████▍  | 824/1108 [05:49<02:01,  2.35it/s]\r 74%|███████▍  | 825/1108 [05:49<02:00,  2.35it/s]\r 75%|███████▍  | 826/1108 [05:50<01:59,  2.35it/s]\r 75%|███████▍  | 827/1108 [05:50<01:59,  2.35it/s]\r 75%|███████▍  | 828/1108 [05:51<01:58,  2.35it/s]\r 75%|███████▍  | 829/1108 [05:51<01:58,  2.35it/s]\r 75%|███████▍  | 830/1108 [05:51<01:58,  2.35it/s]\r 75%|███████▌  | 831/1108 [05:52<01:57,  2.35it/s]\r 75%|███████▌  | 832/1108 [05:52<01:57,  2.35it/s]\r 75%|███████▌  | 833/1108 [05:53<01:57,  2.35it/s]\r 75%|███████▌  | 834/1108 [05:53<01:56,  2.35it/s]\r 75%|███████▌  | 835/1108 [05:54<01:56,  2.35it/s]\r 75%|███████▌  | 836/1108 [05:54<01:55,  2.36it/s]\r 76%|███████▌  | 837/1108 [05:54<01:55,  2.35it/s]\r 76%|███████▌  | 838/1108 [05:55<01:55,  2.34it/s]\r 76%|███████▌  | 839/1108 [05:55<01:54,  2.35it/s]\r 76%|███████▌  | 840/1108 [05:56<01:54,  2.35it/s]\r 76%|███████▌  | 841/1108 [05:56<01:53,  2.34it/s]\r 76%|███████▌  | 842/1108 [05:57<01:53,  2.35it/s]\r 76%|███████▌  | 843/1108 [05:57<01:52,  2.35it/s]\r 76%|███████▌  | 844/1108 [05:57<01:52,  2.35it/s]\r 76%|███████▋  | 845/1108 [05:58<01:52,  2.34it/s]\r 76%|███████▋  | 846/1108 [05:58<01:51,  2.34it/s]\r 76%|███████▋  | 847/1108 [05:59<01:51,  2.35it/s]\r 77%|███████▋  | 848/1108 [05:59<01:50,  2.35it/s]\r 77%|███████▋  | 849/1108 [06:00<01:50,  2.34it/s]\r 77%|███████▋  | 850/1108 [06:00<01:50,  2.34it/s]\r 77%|███████▋  | 851/1108 [06:00<01:49,  2.35it/s]\r 77%|███████▋  | 852/1108 [06:01<01:48,  2.36it/s]\r 77%|███████▋  | 853/1108 [06:01<01:48,  2.35it/s]\r 77%|███████▋  | 854/1108 [06:02<01:48,  2.35it/s]\r 77%|███████▋  | 855/1108 [06:02<01:47,  2.35it/s]\r 77%|███████▋  | 856/1108 [06:02<01:47,  2.35it/s]\r 77%|███████▋  | 857/1108 [06:03<01:46,  2.35it/s]\r 77%|███████▋  | 858/1108 [06:03<01:46,  2.35it/s]\r 78%|███████▊  | 859/1108 [06:04<01:46,  2.35it/s]\r 78%|███████▊  | 860/1108 [06:04<01:45,  2.35it/s]\r 78%|███████▊  | 861/1108 [06:05<01:45,  2.35it/s]\r 78%|███████▊  | 862/1108 [06:05<01:45,  2.33it/s]\r 78%|███████▊  | 863/1108 [06:05<01:44,  2.35it/s]\r 78%|███████▊  | 864/1108 [06:06<01:43,  2.35it/s]\r 78%|███████▊  | 865/1108 [06:06<01:43,  2.35it/s]\r 78%|███████▊  | 866/1108 [06:07<01:42,  2.35it/s]\r 78%|███████▊  | 867/1108 [06:07<01:42,  2.35it/s]\r 78%|███████▊  | 868/1108 [06:08<01:42,  2.35it/s]\r 78%|███████▊  | 869/1108 [06:08<01:41,  2.35it/s]\r 79%|███████▊  | 870/1108 [06:08<01:41,  2.34it/s]\r 79%|███████▊  | 871/1108 [06:09<01:40,  2.35it/s]\r 79%|███████▊  | 872/1108 [06:09<01:40,  2.35it/s]\r 79%|███████▉  | 873/1108 [06:10<01:40,  2.35it/s]\r 79%|███████▉  | 874/1108 [06:10<01:39,  2.35it/s]\r 79%|███████▉  | 875/1108 [06:11<01:39,  2.35it/s]\r 79%|███████▉  | 876/1108 [06:11<01:38,  2.35it/s]\r 79%|███████▉  | 877/1108 [06:11<01:38,  2.35it/s]\r 79%|███████▉  | 878/1108 [06:12<01:37,  2.35it/s]\r 79%|███████▉  | 879/1108 [06:12<01:37,  2.36it/s]\r 79%|███████▉  | 880/1108 [06:13<01:36,  2.36it/s]\r 80%|███████▉  | 881/1108 [06:13<01:36,  2.36it/s]\r 80%|███████▉  | 882/1108 [06:14<01:35,  2.36it/s]\r 80%|███████▉  | 883/1108 [06:14<01:35,  2.35it/s]\r 80%|███████▉  | 884/1108 [06:14<01:35,  2.35it/s]\r 80%|███████▉  | 885/1108 [06:15<01:34,  2.35it/s]\r 80%|███████▉  | 886/1108 [06:15<01:34,  2.35it/s]\r 80%|████████  | 887/1108 [06:16<01:33,  2.36it/s]\r 80%|████████  | 888/1108 [06:16<01:33,  2.36it/s]\r 80%|████████  | 889/1108 [06:17<01:32,  2.36it/s]\r 80%|████████  | 890/1108 [06:17<01:32,  2.36it/s]\r 80%|████████  | 891/1108 [06:17<01:32,  2.35it/s]\r 81%|████████  | 892/1108 [06:18<01:31,  2.35it/s]\r 81%|████████  | 893/1108 [06:18<01:31,  2.36it/s]\r 81%|████████  | 894/1108 [06:19<01:30,  2.36it/s]\r 81%|████████  | 895/1108 [06:19<01:30,  2.35it/s]\r 81%|████████  | 896/1108 [06:20<01:29,  2.36it/s]\r 81%|████████  | 897/1108 [06:20<01:29,  2.35it/s]\r 81%|████████  | 898/1108 [06:20<01:29,  2.35it/s]\r 81%|████████  | 899/1108 [06:21<01:29,  2.35it/s]\r 81%|████████  | 900/1108 [06:21<01:28,  2.35it/s]\r 81%|████████▏ | 901/1108 [06:22<01:28,  2.34it/s]\r 81%|████████▏ | 902/1108 [06:22<01:27,  2.35it/s]\r 81%|████████▏ | 903/1108 [06:22<01:27,  2.35it/s]\r 82%|████████▏ | 904/1108 [06:23<01:26,  2.35it/s]\r 82%|████████▏ | 905/1108 [06:23<01:26,  2.35it/s]\r 82%|████████▏ | 906/1108 [06:24<01:25,  2.35it/s]\r 82%|████████▏ | 907/1108 [06:24<01:25,  2.35it/s]\r 82%|████████▏ | 908/1108 [06:25<01:25,  2.35it/s]\r 82%|████████▏ | 909/1108 [06:25<01:24,  2.35it/s]\r 82%|████████▏ | 910/1108 [06:25<01:24,  2.35it/s]\r 82%|████████▏ | 911/1108 [06:26<01:23,  2.35it/s]\r 82%|████████▏ | 912/1108 [06:26<01:23,  2.36it/s]\r 82%|████████▏ | 913/1108 [06:27<01:22,  2.35it/s]\r 82%|████████▏ | 914/1108 [06:27<01:22,  2.35it/s]\r 83%|████████▎ | 915/1108 [06:28<01:22,  2.35it/s]\r 83%|████████▎ | 916/1108 [06:28<01:21,  2.35it/s]\r 83%|████████▎ | 917/1108 [06:28<01:21,  2.36it/s]\r 83%|████████▎ | 918/1108 [06:29<01:20,  2.35it/s]\r 83%|████████▎ | 919/1108 [06:29<01:20,  2.35it/s]\r 83%|████████▎ | 920/1108 [06:30<01:20,  2.34it/s]\r 83%|████████▎ | 921/1108 [06:30<01:19,  2.35it/s]\r 83%|████████▎ | 922/1108 [06:31<01:18,  2.36it/s]\r 83%|████████▎ | 923/1108 [06:31<01:18,  2.35it/s]\r 83%|████████▎ | 924/1108 [06:31<01:18,  2.35it/s]\r 83%|████████▎ | 925/1108 [06:32<01:17,  2.35it/s]\r 84%|████████▎ | 926/1108 [06:32<01:17,  2.35it/s]\r 84%|████████▎ | 927/1108 [06:33<01:16,  2.35it/s]\r 84%|████████▍ | 928/1108 [06:33<01:16,  2.35it/s]\r 84%|████████▍ | 929/1108 [06:34<01:16,  2.35it/s]\r 84%|████████▍ | 930/1108 [06:34<01:15,  2.35it/s]\r 84%|████████▍ | 931/1108 [06:34<01:15,  2.35it/s]\r 84%|████████▍ | 932/1108 [06:35<01:15,  2.35it/s]\r 84%|████████▍ | 933/1108 [06:35<01:14,  2.35it/s]\r 84%|████████▍ | 934/1108 [06:36<01:13,  2.36it/s]\r 84%|████████▍ | 935/1108 [06:36<01:13,  2.36it/s]\r 84%|████████▍ | 936/1108 [06:37<01:13,  2.36it/s]\r 85%|████████▍ | 937/1108 [06:37<01:12,  2.35it/s]\r 85%|████████▍ | 938/1108 [06:37<01:12,  2.35it/s]\r 85%|████████▍ | 939/1108 [06:38<01:11,  2.35it/s]\r 85%|████████▍ | 940/1108 [06:38<01:11,  2.35it/s]\r 85%|████████▍ | 941/1108 [06:39<01:10,  2.35it/s]\r 85%|████████▌ | 942/1108 [06:39<01:10,  2.35it/s]\r 85%|████████▌ | 943/1108 [06:39<01:10,  2.35it/s]\r 85%|████████▌ | 944/1108 [06:40<01:09,  2.35it/s]\r 85%|████████▌ | 945/1108 [06:40<01:09,  2.35it/s]\r 85%|████████▌ | 946/1108 [06:41<01:08,  2.35it/s]\r 85%|████████▌ | 947/1108 [06:41<01:08,  2.35it/s]\r 86%|████████▌ | 948/1108 [06:42<01:07,  2.35it/s]\r 86%|████████▌ | 949/1108 [06:42<01:07,  2.36it/s]\r 86%|████████▌ | 950/1108 [06:42<01:07,  2.35it/s]\r 86%|████████▌ | 951/1108 [06:43<01:07,  2.34it/s]\r 86%|████████▌ | 952/1108 [06:43<01:06,  2.35it/s]\r 86%|████████▌ | 953/1108 [06:44<01:06,  2.34it/s]\r 86%|████████▌ | 954/1108 [06:44<01:05,  2.35it/s]\r 86%|████████▌ | 955/1108 [06:45<01:05,  2.35it/s]\r 86%|████████▋ | 956/1108 [06:45<01:04,  2.34it/s]\r 86%|████████▋ | 957/1108 [06:45<01:04,  2.34it/s]\r 86%|████████▋ | 958/1108 [06:46<01:04,  2.34it/s]\r 87%|████████▋ | 959/1108 [06:46<01:03,  2.35it/s]\r 87%|████████▋ | 960/1108 [06:47<01:03,  2.35it/s]\r 87%|████████▋ | 961/1108 [06:47<01:02,  2.35it/s]\r 87%|████████▋ | 962/1108 [06:48<01:02,  2.35it/s]\r 87%|████████▋ | 963/1108 [06:48<01:01,  2.35it/s]\r 87%|████████▋ | 964/1108 [06:48<01:01,  2.35it/s]\r 87%|████████▋ | 965/1108 [06:49<01:00,  2.35it/s]\r 87%|████████▋ | 966/1108 [06:49<01:00,  2.35it/s]\r 87%|████████▋ | 967/1108 [06:50<00:59,  2.35it/s]\r 87%|████████▋ | 968/1108 [06:50<00:59,  2.35it/s]\r 87%|████████▋ | 969/1108 [06:51<00:59,  2.35it/s]\r 88%|████████▊ | 970/1108 [06:51<00:58,  2.35it/s]\r 88%|████████▊ | 971/1108 [06:51<00:58,  2.36it/s]\r 88%|████████▊ | 972/1108 [06:52<00:57,  2.35it/s]\r 88%|████████▊ | 973/1108 [06:52<00:57,  2.36it/s]\r 88%|████████▊ | 974/1108 [06:53<00:56,  2.36it/s]\r 88%|████████▊ | 975/1108 [06:53<00:56,  2.35it/s]\r 88%|████████▊ | 976/1108 [06:54<00:56,  2.35it/s]\r 88%|████████▊ | 977/1108 [06:54<00:55,  2.35it/s]\r 88%|████████▊ | 978/1108 [06:54<00:55,  2.35it/s]\r 88%|████████▊ | 979/1108 [06:55<00:54,  2.35it/s]\r 88%|████████▊ | 980/1108 [06:55<00:54,  2.35it/s]\r 89%|████████▊ | 981/1108 [06:56<00:53,  2.35it/s]\r 89%|████████▊ | 982/1108 [06:56<00:53,  2.35it/s]\r 89%|████████▊ | 983/1108 [06:57<00:53,  2.35it/s]\r 89%|████████▉ | 984/1108 [06:57<00:52,  2.35it/s]\r 89%|████████▉ | 985/1108 [06:57<00:52,  2.35it/s]\r 89%|████████▉ | 986/1108 [06:58<00:51,  2.35it/s]\r 89%|████████▉ | 987/1108 [06:58<00:51,  2.35it/s]\r 89%|████████▉ | 988/1108 [06:59<00:50,  2.35it/s]\r 89%|████████▉ | 989/1108 [06:59<00:50,  2.35it/s]\r 89%|████████▉ | 990/1108 [06:59<00:50,  2.35it/s]\r 89%|████████▉ | 991/1108 [07:00<00:49,  2.35it/s]\r 90%|████████▉ | 992/1108 [07:00<00:49,  2.35it/s]\r 90%|████████▉ | 993/1108 [07:01<00:48,  2.36it/s]\r 90%|████████▉ | 994/1108 [07:01<00:48,  2.36it/s]\r 90%|████████▉ | 995/1108 [07:02<00:47,  2.36it/s]\r 90%|████████▉ | 996/1108 [07:02<00:47,  2.36it/s]\r 90%|████████▉ | 997/1108 [07:02<00:47,  2.36it/s]\r 90%|█████████ | 998/1108 [07:03<00:46,  2.36it/s]\r 90%|█████████ | 999/1108 [07:03<00:46,  2.36it/s]\r 90%|█████████ | 1000/1108 [07:04<00:45,  2.35it/s]\r                                                   \r\r 90%|█████████ | 1000/1108 [07:04<00:45,  2.35it/s]\r 90%|█████████ | 1001/1108 [07:04<00:45,  2.34it/s]\r 90%|█████████ | 1002/1108 [07:05<00:45,  2.34it/s]\r 91%|█████████ | 1003/1108 [07:05<00:44,  2.35it/s]\r 91%|█████████ | 1004/1108 [07:05<00:44,  2.35it/s]\r 91%|█████████ | 1005/1108 [07:06<00:43,  2.35it/s]\r 91%|█████████ | 1006/1108 [07:06<00:43,  2.35it/s]\r 91%|█████████ | 1007/1108 [07:07<00:42,  2.35it/s]\r 91%|█████████ | 1008/1108 [07:07<00:42,  2.35it/s]\r 91%|█████████ | 1009/1108 [07:08<00:42,  2.35it/s]\r 91%|█████████ | 1010/1108 [07:08<00:41,  2.35it/s]\r 91%|█████████ | 1011/1108 [07:08<00:41,  2.35it/s]\r 91%|█████████▏| 1012/1108 [07:09<00:40,  2.35it/s]\r 91%|█████████▏| 1013/1108 [07:09<00:40,  2.35it/s]\r 92%|█████████▏| 1014/1108 [07:10<00:39,  2.36it/s]\r 92%|█████████▏| 1015/1108 [07:10<00:39,  2.35it/s]\r 92%|█████████▏| 1016/1108 [07:11<00:39,  2.35it/s]\r 92%|█████████▏| 1017/1108 [07:11<00:38,  2.36it/s]\r 92%|█████████▏| 1018/1108 [07:11<00:38,  2.36it/s]\r 92%|█████████▏| 1019/1108 [07:12<00:37,  2.36it/s]\r 92%|█████████▏| 1020/1108 [07:12<00:37,  2.36it/s]\r 92%|█████████▏| 1021/1108 [07:13<00:36,  2.36it/s]\r 92%|█████████▏| 1022/1108 [07:13<00:36,  2.36it/s]\r 92%|█████████▏| 1023/1108 [07:14<00:36,  2.36it/s]\r 92%|█████████▏| 1024/1108 [07:14<00:35,  2.35it/s]\r 93%|█████████▎| 1025/1108 [07:14<00:35,  2.36it/s]\r 93%|█████████▎| 1026/1108 [07:15<00:34,  2.35it/s]\r 93%|█████████▎| 1027/1108 [07:15<00:34,  2.35it/s]\r 93%|█████████▎| 1028/1108 [07:16<00:33,  2.36it/s]\r 93%|█████████▎| 1029/1108 [07:16<00:33,  2.35it/s]\r 93%|█████████▎| 1030/1108 [07:16<00:33,  2.35it/s]\r 93%|█████████▎| 1031/1108 [07:17<00:32,  2.35it/s]\r 93%|█████████▎| 1032/1108 [07:17<00:32,  2.35it/s]\r 93%|█████████▎| 1033/1108 [07:18<00:31,  2.35it/s]\r 93%|█████████▎| 1034/1108 [07:18<00:31,  2.35it/s]\r 93%|█████████▎| 1035/1108 [07:19<00:30,  2.36it/s]\r 94%|█████████▎| 1036/1108 [07:19<00:30,  2.36it/s]\r 94%|█████████▎| 1037/1108 [07:19<00:30,  2.35it/s]\r 94%|█████████▎| 1038/1108 [07:20<00:29,  2.35it/s]\r 94%|█████████▍| 1039/1108 [07:20<00:29,  2.35it/s]\r 94%|█████████▍| 1040/1108 [07:21<00:28,  2.35it/s]\r 94%|█████████▍| 1041/1108 [07:21<00:28,  2.35it/s]\r 94%|█████████▍| 1042/1108 [07:22<00:28,  2.36it/s]\r 94%|█████████▍| 1043/1108 [07:22<00:27,  2.35it/s]\r 94%|█████████▍| 1044/1108 [07:22<00:27,  2.35it/s]\r 94%|█████████▍| 1045/1108 [07:23<00:26,  2.35it/s]\r 94%|█████████▍| 1046/1108 [07:23<00:26,  2.35it/s]\r 94%|█████████▍| 1047/1108 [07:24<00:25,  2.36it/s]\r 95%|█████████▍| 1048/1108 [07:24<00:25,  2.35it/s]\r 95%|█████████▍| 1049/1108 [07:25<00:24,  2.36it/s]\r 95%|█████████▍| 1050/1108 [07:25<00:24,  2.36it/s]\r 95%|█████████▍| 1051/1108 [07:25<00:24,  2.35it/s]\r 95%|█████████▍| 1052/1108 [07:26<00:23,  2.36it/s]\r 95%|█████████▌| 1053/1108 [07:26<00:23,  2.36it/s]\r 95%|█████████▌| 1054/1108 [07:27<00:22,  2.36it/s]\r 95%|█████████▌| 1055/1108 [07:27<00:22,  2.35it/s]\r 95%|█████████▌| 1056/1108 [07:28<00:22,  2.36it/s]\r 95%|█████████▌| 1057/1108 [07:28<00:21,  2.36it/s]\r 95%|█████████▌| 1058/1108 [07:28<00:21,  2.35it/s]\r 96%|█████████▌| 1059/1108 [07:29<00:20,  2.36it/s]\r 96%|█████████▌| 1060/1108 [07:29<00:20,  2.35it/s]\r 96%|█████████▌| 1061/1108 [07:30<00:19,  2.36it/s]\r 96%|█████████▌| 1062/1108 [07:30<00:19,  2.35it/s]\r 96%|█████████▌| 1063/1108 [07:30<00:19,  2.36it/s]\r 96%|█████████▌| 1064/1108 [07:31<00:18,  2.36it/s]\r 96%|█████████▌| 1065/1108 [07:31<00:18,  2.36it/s]\r 96%|█████████▌| 1066/1108 [07:32<00:17,  2.35it/s]\r 96%|█████████▋| 1067/1108 [07:32<00:17,  2.36it/s]\r 96%|█████████▋| 1068/1108 [07:33<00:16,  2.36it/s]\r 96%|█████████▋| 1069/1108 [07:33<00:16,  2.35it/s]\r 97%|█████████▋| 1070/1108 [07:33<00:16,  2.35it/s]\r 97%|█████████▋| 1071/1108 [07:34<00:15,  2.35it/s]\r 97%|█████████▋| 1072/1108 [07:34<00:15,  2.35it/s]\r 97%|█████████▋| 1073/1108 [07:35<00:14,  2.35it/s]\r 97%|█████████▋| 1074/1108 [07:35<00:14,  2.35it/s]\r 97%|█████████▋| 1075/1108 [07:36<00:14,  2.35it/s]\r 97%|█████████▋| 1076/1108 [07:36<00:13,  2.35it/s]\r 97%|█████████▋| 1077/1108 [07:36<00:13,  2.35it/s]\r 97%|█████████▋| 1078/1108 [07:37<00:12,  2.35it/s]\r 97%|█████████▋| 1079/1108 [07:37<00:12,  2.35it/s]\r 97%|█████████▋| 1080/1108 [07:38<00:11,  2.34it/s]\r 98%|█████████▊| 1081/1108 [07:38<00:11,  2.35it/s]\r 98%|█████████▊| 1082/1108 [07:39<00:11,  2.34it/s]\r 98%|█████████▊| 1083/1108 [07:39<00:10,  2.35it/s]\r 98%|█████████▊| 1084/1108 [07:39<00:10,  2.36it/s]\r 98%|█████████▊| 1085/1108 [07:40<00:09,  2.35it/s]\r 98%|█████████▊| 1086/1108 [07:40<00:09,  2.35it/s]\r 98%|█████████▊| 1087/1108 [07:41<00:08,  2.35it/s]\r 98%|█████████▊| 1088/1108 [07:41<00:08,  2.36it/s]\r 98%|█████████▊| 1089/1108 [07:42<00:08,  2.35it/s]\r 98%|█████████▊| 1090/1108 [07:42<00:07,  2.35it/s]\r 98%|█████████▊| 1091/1108 [07:42<00:07,  2.35it/s]\r 99%|█████████▊| 1092/1108 [07:43<00:06,  2.35it/s]\r 99%|█████████▊| 1093/1108 [07:43<00:06,  2.35it/s]\r 99%|█████████▊| 1094/1108 [07:44<00:05,  2.35it/s]\r 99%|█████████▉| 1095/1108 [07:44<00:05,  2.35it/s]\r 99%|█████████▉| 1096/1108 [07:45<00:05,  2.35it/s]\r 99%|█████████▉| 1097/1108 [07:45<00:04,  2.35it/s]\r 99%|█████████▉| 1098/1108 [07:45<00:04,  2.35it/s]\r 99%|█████████▉| 1099/1108 [07:46<00:03,  2.35it/s]\r 99%|█████████▉| 1100/1108 [07:46<00:03,  2.36it/s]\r 99%|█████████▉| 1101/1108 [07:47<00:02,  2.36it/s]\r 99%|█████████▉| 1102/1108 [07:47<00:02,  2.35it/s]\r100%|█████████▉| 1103/1108 [07:47<00:02,  2.35it/s]\r100%|█████████▉| 1104/1108 [07:48<00:01,  2.36it/s]\r100%|█████████▉| 1105/1108 [07:48<00:01,  2.36it/s]\r100%|█████████▉| 1106/1108 [07:49<00:00,  2.35it/s]\r100%|█████████▉| 1107/1108 [07:49<00:00,  2.36it/s]\r100%|██████████| 1108/1108 [07:50<00:00,  2.36it/s]\r                                                   \r\r100%|██████████| 1108/1108 [07:50<00:00,  2.36it/s]\r100%|██████████| 1108/1108 [07:50<00:00,  2.36it/s]\n",
            "/usr/local/lib/python3.6/dist-packages/transformers/trainer.py:1174: FutureWarning: This method is deprecated, use `Trainer.is_world_process_zero()` instead.\n",
            "  warnings.warn(\"This method is deprecated, use `Trainer.is_world_process_zero()` instead.\", FutureWarning)\n",
            "11/14/2020 12:42:51 - INFO - __main__ -   *** Evaluate ***\n",
            "\r  0%|          | 0/21 [00:00<?, ?it/s]\r 10%|▉         | 2/21 [00:00<00:08,  2.23it/s]\r 14%|█▍        | 3/21 [00:01<00:11,  1.57it/s]\r 19%|█▉        | 4/21 [00:03<00:13,  1.30it/s]\r 24%|██▍       | 5/21 [00:04<00:13,  1.16it/s]\r 29%|██▊       | 6/21 [00:05<00:13,  1.08it/s]\r 33%|███▎      | 7/21 [00:06<00:13,  1.03it/s]\r 38%|███▊      | 8/21 [00:07<00:12,  1.00it/s]\r 43%|████▎     | 9/21 [00:08<00:12,  1.02s/it]\r 48%|████▊     | 10/21 [00:09<00:11,  1.04s/it]\r 52%|█████▏    | 11/21 [00:10<00:10,  1.05s/it]\r 57%|█████▋    | 12/21 [00:11<00:09,  1.06s/it]\r 62%|██████▏   | 13/21 [00:12<00:08,  1.06s/it]\r 67%|██████▋   | 14/21 [00:13<00:07,  1.06s/it]\r 71%|███████▏  | 15/21 [00:14<00:06,  1.07s/it]\r 76%|███████▌  | 16/21 [00:15<00:05,  1.07s/it]\r 81%|████████  | 17/21 [00:17<00:04,  1.07s/it]\r 86%|████████▌ | 18/21 [00:18<00:03,  1.07s/it]\r 90%|█████████ | 19/21 [00:19<00:02,  1.07s/it]\r 95%|█████████▌| 20/21 [00:20<00:01,  1.08s/it]\r100%|██████████| 21/21 [00:21<00:00,  1.08s/it]\r100%|██████████| 21/21 [00:21<00:00,  1.02s/it]\n",
            "11/14/2020 12:43:13 - INFO - __main__ -   ***** Eval results *****\n",
            "11/14/2020 12:43:13 - INFO - __main__ -     perplexity = 4.175228878546915\n"
          ],
          "name": "stderr"
        }
      ]
    },
    {
      "cell_type": "code",
      "metadata": {
        "id": "yp6jDX_3HdVH",
        "outputId": "a2388aaa-f6b5-474e-aef4-07f964dfb28c",
        "colab": {
          "base_uri": "https://localhost:8080/"
        }
      },
      "source": [
        "# this allow us to generate sample patent claims \n",
        "\n",
        "from transformers import GPT2Tokenizer, GPT2LMHeadModel\n",
        "import torch\n",
        "import numpy as np\n",
        "\n",
        "OUTPUT_DIR = \"./Models/Claims_model\"\n",
        "device = 'cpu'\n",
        "if torch.cuda.is_available():\n",
        "    device = 'cuda'\n",
        "# we use the GPT-2 model to load our fine-tuned model and get the tokenization\n",
        "tokenizer = GPT2Tokenizer.from_pretrained(OUTPUT_DIR)\n",
        "model = GPT2LMHeadModel.from_pretrained(OUTPUT_DIR)\n",
        "model = model.to(device)\n",
        "                                        \n",
        "def generate(input_str, length=250, n=5):\n",
        "  '''\n",
        "  This is the main generation code using our model\n",
        "  '''\n",
        "  cur_ids = torch.tensor(tokenizer.encode(input_str)).unsqueeze(0).long().to(device)\n",
        "  model.eval()\n",
        "  with torch.no_grad():\n",
        "    for i in range(length):\n",
        "      outputs = model(cur_ids[:, -1024:], labels=cur_ids[:, -1024:])\n",
        "      loss, logits = outputs[:2]\n",
        "      softmax_logits = torch.softmax(logits[0,-1], dim=0)\n",
        "      next_token_id = choose_from_top(softmax_logits.to('cpu').numpy(), n=n)\n",
        "      cur_ids = torch.cat([cur_ids, torch.ones((1,1)).long().to(device) * next_token_id], dim=1)\n",
        "    output_list = list(cur_ids.squeeze().to('cpu').numpy())\n",
        "    output_text = tokenizer.decode(output_list)\n",
        "    return output_text\n",
        "\n",
        "def choose_from_top(probs, n=5):\n",
        "    '''\n",
        "    This chooses the top n choices and probabilistically select one choice\n",
        "    '''\n",
        "    ind = np.argpartition(probs, -n)[-n:]\n",
        "    top_prob = probs[ind]\n",
        "    top_prob = top_prob / np.sum(top_prob) # Normalize\n",
        "    choice = np.random.choice(n, 1, p = top_prob)\n",
        "    token_id = ind[choice][0]\n",
        "    return int(token_id)\n",
        "# print the generated text\n",
        "generated_text = generate(\"This aparatus \\n\", n=5)\n",
        "print(generated_text)"
      ],
      "execution_count": 9,
      "outputs": [
        {
          "output_type": "stream",
          "text": [
            "This aparatus \n",
            "(1) a method of forming a plurality of light emitting devices comprising: forming a plurality of light emitting devices on a substrate;  forming a first light emitting layer on a substrate, wherein the first light emitting layer is arranged in the first direction, and wherein the first light emitting layer is arranged in the second direction;  forming a plurality of light emitting devices on a substrate, wherein the plurality of light emitting devices are formed in the first direction and arranged in the second direction;  and forming a plurality of light emitting devices on an insulating film, wherein the plurality of light emitting devices are formed on the substrate and in the second direction. <EOS>\n",
            "<BOS> 4.  The display device according to claim 3, wherein the first conductive layer comprises an organic material and the second conductive layer comprises a metal layer. <EOS>\n",
            "<BOS> nan <EOS>\n",
            "<BOS> 1.  A light emitting device comprising: a first substrate;  a second substrate disposed on the first substrate;  a light emitting layer disposed on the second substrate;  a light emitting device disposed on the light emitting layer;  an organic layer disposed on the organic layer;  and at least one\n"
          ],
          "name": "stdout"
        }
      ]
    },
    {
      "cell_type": "code",
      "metadata": {
        "id": "qN2jSDuYIzbe",
        "outputId": "95acf0f5-be02-426f-ffd7-c2d8b98381af",
        "colab": {
          "base_uri": "https://localhost:8080/"
        }
      },
      "source": [
        "% ls output"
      ],
      "execution_count": 10,
      "outputs": [
        {
          "output_type": "stream",
          "text": [
            "ls: cannot access 'output': No such file or directory\n"
          ],
          "name": "stdout"
        }
      ]
    },
    {
      "cell_type": "code",
      "metadata": {
        "id": "LG6yJF4AIztA"
      },
      "source": [
        ""
      ],
      "execution_count": null,
      "outputs": []
    }
  ]
}