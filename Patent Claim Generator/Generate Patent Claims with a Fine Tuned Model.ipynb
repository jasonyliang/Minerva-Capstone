{
 "cells": [
  {
   "cell_type": "code",
   "execution_count": 1,
   "metadata": {},
   "outputs": [
    {
     "data": {
      "text/plain": [
       "'1.5.0'"
      ]
     },
     "execution_count": 1,
     "metadata": {},
     "output_type": "execute_result"
    }
   ],
   "source": [
    "from transformers import GPT2Tokenizer, GPT2LMHeadModel\n",
    "import torch\n",
    "import numpy as np"
   ]
  },
  {
   "cell_type": "code",
   "execution_count": 2,
   "metadata": {},
   "outputs": [],
   "source": [
    "OUTPUT_DIR = \"./models\"\n",
    "device = 'cpu'\n",
    "if torch.cuda.is_available():\n",
    "    device = 'cuda'\n",
    "\n",
    "tokenizer = GPT2Tokenizer.from_pretrained(OUTPUT_DIR)\n",
    "model = GPT2LMHeadModel.from_pretrained(OUTPUT_DIR)\n",
    "model = model.to(device)"
   ]
  },
  {
   "cell_type": "code",
   "execution_count": 3,
   "metadata": {},
   "outputs": [],
   "source": [
    "def generate(input_str, length=250, n=5):\n",
    "    cur_ids = torch.tensor(tokenizer.encode(input_str)).unsqueeze(0).long().to(device)\n",
    "    model.eval()\n",
    "    with torch.no_grad():\n",
    "        for i in range(length):\n",
    "            outputs = model(cur_ids[:, -1024:], labels=cur_ids[:, -1024:])\n",
    "            loss, logits = outputs[:2]\n",
    "            softmax_logits = torch.softmax(logits[0,-1], dim=0)\n",
    "            next_token_id = choose_from_top(softmax_logits.to('cpu').numpy(), n=n)\n",
    "            cur_ids = torch.cat([cur_ids, torch.ones((1,1)).long().to(device) * next_token_id], dim=1)\n",
    "        output_list = list(cur_ids.squeeze().to('cpu').numpy())\n",
    "        output_text = tokenizer.decode(output_list)\n",
    "        return output_text\n",
    "\n",
    "def choose_from_top(probs, n=5):\n",
    "    ind = np.argpartition(probs, -n)[-n:]\n",
    "    top_prob = probs[ind]\n",
    "    top_prob = top_prob / np.sum(top_prob) # Normalize\n",
    "    choice = np.random.choice(n, 1, p = top_prob)\n",
    "    token_id = ind[choice][0]\n",
    "    return int(token_id)"
   ]
  },
  {
   "cell_type": "code",
   "execution_count": 7,
   "metadata": {},
   "outputs": [
    {
     "name": "stdout",
     "output_type": "stream",
     "text": [
      "<BOS> 1.  A display panel comprising: a plurality of pixel cells arranged in a first direction, each pixel cell comprising a first pixel region, a second pixel region, and a fourth pixel region;  an input layer disposed on the first pixel region, the input layer including: at least one first pixel region, a second pixel region, and a third pixel region on the first pixel region and the second pixel region, the first pixel region and the second pixel region each being arranged along a first direction parallel to a first edge of the pixel region;  the second pixel region on the first pixel region and on the second pixel region, the second pixel region and the third pixel region each being arranged along a second direction parallel to a second edge of the pixel region;  a first pixel region disposed between a third pixel region and a fourth pixel region;  a third pixel region disposed between a fourth pixel region and an upper surface of the pixel region;  a light emitting device on each pixel cell;  a first light emitting layer on each pixel cell, the first light emitting layer including a second light emitting region, a third light emitting region, and an inner surface of the first pixel region. <EOS>\n",
      "<BOS> 4. \n"
     ]
    }
   ],
   "source": [
    "# generated_text = generate(\"This aparatus \\n\", n=5)\n",
    "generated_text = generate(\"<BOS>\", n=5)\n",
    "print(generated_text)"
   ]
  },
  {
   "cell_type": "code",
   "execution_count": null,
   "metadata": {},
   "outputs": [],
   "source": []
  },
  {
   "cell_type": "code",
   "execution_count": null,
   "metadata": {},
   "outputs": [],
   "source": []
  }
 ],
 "metadata": {
  "kernelspec": {
   "display_name": "Python 3",
   "language": "python",
   "name": "python3"
  },
  "language_info": {
   "codemirror_mode": {
    "name": "ipython",
    "version": 3
   },
   "file_extension": ".py",
   "mimetype": "text/x-python",
   "name": "python",
   "nbconvert_exporter": "python",
   "pygments_lexer": "ipython3",
   "version": "3.6.5"
  }
 },
 "nbformat": 4,
 "nbformat_minor": 2
}
