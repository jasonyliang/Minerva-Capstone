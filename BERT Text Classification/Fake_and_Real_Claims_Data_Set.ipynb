{
  "nbformat": 4,
  "nbformat_minor": 0,
  "metadata": {
    "colab": {
      "name": "Fake and Real Patents Data Set.ipynb",
      "provenance": [],
      "collapsed_sections": []
    },
    "kernelspec": {
      "name": "python3",
      "display_name": "Python 3"
    },
    "accelerator": "GPU"
  },
  "cells": [
    {
      "cell_type": "code",
      "metadata": {
        "id": "Z4BOZ4dQx9zI",
        "outputId": "f43448c1-c81f-498d-915f-0062afe413bb",
        "colab": {
          "base_uri": "https://localhost:8080/",
          "height": 34
        }
      },
      "source": [
        "from google.colab import drive\n",
        "drive.mount(\"/content/drive\")"
      ],
      "execution_count": null,
      "outputs": [
        {
          "output_type": "stream",
          "text": [
            "Mounted at /content/drive\n"
          ],
          "name": "stdout"
        }
      ]
    },
    {
      "cell_type": "code",
      "metadata": {
        "id": "1ODoshbKxUd9"
      },
      "source": [
        "import pandas as pd\n",
        "from sklearn.model_selection import train_test_split\n",
        "import numpy as np\n",
        "import re\n",
        "import torch\n",
        "# from fake_claims_generator import generate, grab_random_prompts"
      ],
      "execution_count": null,
      "outputs": []
    },
    {
      "cell_type": "code",
      "metadata": {
        "id": "UnF3YdDyxjCl",
        "outputId": "07905ea9-ac2f-4f4a-9f43-ec218f33f54b",
        "colab": {
          "base_uri": "https://localhost:8080/",
          "height": 663
        }
      },
      "source": [
        "!pip3 install git+https://github.com/huggingface/transformers@v3.1.0 # there are errors in the later versions"
      ],
      "execution_count": null,
      "outputs": [
        {
          "output_type": "stream",
          "text": [
            "Collecting git+https://github.com/huggingface/transformers@v3.1.0\n",
            "  Cloning https://github.com/huggingface/transformers (to revision v3.1.0) to /tmp/pip-req-build-zv6l46c3\n",
            "  Running command git clone -q https://github.com/huggingface/transformers /tmp/pip-req-build-zv6l46c3\n",
            "  Running command git checkout -q 4f0a753715e2a4b521db2e91200d947114e0c90c\n",
            "Requirement already satisfied: numpy in /usr/local/lib/python3.6/dist-packages (from transformers==3.1.0) (1.18.5)\n",
            "Collecting tokenizers==0.8.1.rc2\n",
            "\u001b[?25l  Downloading https://files.pythonhosted.org/packages/80/83/8b9fccb9e48eeb575ee19179e2bdde0ee9a1904f97de5f02d19016b8804f/tokenizers-0.8.1rc2-cp36-cp36m-manylinux1_x86_64.whl (3.0MB)\n",
            "\u001b[K     |████████████████████████████████| 3.0MB 6.5MB/s \n",
            "\u001b[?25hRequirement already satisfied: packaging in /usr/local/lib/python3.6/dist-packages (from transformers==3.1.0) (20.4)\n",
            "Requirement already satisfied: filelock in /usr/local/lib/python3.6/dist-packages (from transformers==3.1.0) (3.0.12)\n",
            "Requirement already satisfied: requests in /usr/local/lib/python3.6/dist-packages (from transformers==3.1.0) (2.23.0)\n",
            "Requirement already satisfied: tqdm>=4.27 in /usr/local/lib/python3.6/dist-packages (from transformers==3.1.0) (4.41.1)\n",
            "Requirement already satisfied: regex!=2019.12.17 in /usr/local/lib/python3.6/dist-packages (from transformers==3.1.0) (2019.12.20)\n",
            "Collecting sentencepiece!=0.1.92\n",
            "\u001b[?25l  Downloading https://files.pythonhosted.org/packages/d4/a4/d0a884c4300004a78cca907a6ff9a5e9fe4f090f5d95ab341c53d28cbc58/sentencepiece-0.1.91-cp36-cp36m-manylinux1_x86_64.whl (1.1MB)\n",
            "\u001b[K     |████████████████████████████████| 1.1MB 38.6MB/s \n",
            "\u001b[?25hCollecting sacremoses\n",
            "\u001b[?25l  Downloading https://files.pythonhosted.org/packages/7d/34/09d19aff26edcc8eb2a01bed8e98f13a1537005d31e95233fd48216eed10/sacremoses-0.0.43.tar.gz (883kB)\n",
            "\u001b[K     |████████████████████████████████| 890kB 27.8MB/s \n",
            "\u001b[?25hRequirement already satisfied: dataclasses in /usr/local/lib/python3.6/dist-packages (from transformers==3.1.0) (0.7)\n",
            "Requirement already satisfied: pyparsing>=2.0.2 in /usr/local/lib/python3.6/dist-packages (from packaging->transformers==3.1.0) (2.4.7)\n",
            "Requirement already satisfied: six in /usr/local/lib/python3.6/dist-packages (from packaging->transformers==3.1.0) (1.15.0)\n",
            "Requirement already satisfied: chardet<4,>=3.0.2 in /usr/local/lib/python3.6/dist-packages (from requests->transformers==3.1.0) (3.0.4)\n",
            "Requirement already satisfied: certifi>=2017.4.17 in /usr/local/lib/python3.6/dist-packages (from requests->transformers==3.1.0) (2020.6.20)\n",
            "Requirement already satisfied: idna<3,>=2.5 in /usr/local/lib/python3.6/dist-packages (from requests->transformers==3.1.0) (2.10)\n",
            "Requirement already satisfied: urllib3!=1.25.0,!=1.25.1,<1.26,>=1.21.1 in /usr/local/lib/python3.6/dist-packages (from requests->transformers==3.1.0) (1.24.3)\n",
            "Requirement already satisfied: click in /usr/local/lib/python3.6/dist-packages (from sacremoses->transformers==3.1.0) (7.1.2)\n",
            "Requirement already satisfied: joblib in /usr/local/lib/python3.6/dist-packages (from sacremoses->transformers==3.1.0) (0.16.0)\n",
            "Building wheels for collected packages: transformers, sacremoses\n",
            "  Building wheel for transformers (setup.py) ... \u001b[?25l\u001b[?25hdone\n",
            "  Created wheel for transformers: filename=transformers-3.1.0-cp36-none-any.whl size=884019 sha256=bcd6382bbfe8d80916077da46fb0a6a3454fd38f9a46c4e59b6961f07a8cd84f\n",
            "  Stored in directory: /tmp/pip-ephem-wheel-cache-__or5aam/wheels/97/58/f3/fab46f0e4c13b26fe3bb745b20a17792a12b324163b2cfe393\n",
            "  Building wheel for sacremoses (setup.py) ... \u001b[?25l\u001b[?25hdone\n",
            "  Created wheel for sacremoses: filename=sacremoses-0.0.43-cp36-none-any.whl size=893257 sha256=5eb67d8cd88700d68e70d0a8e61a27edf93b76471f13e62e5b8184e6d4058d51\n",
            "  Stored in directory: /root/.cache/pip/wheels/29/3c/fd/7ce5c3f0666dab31a50123635e6fb5e19ceb42ce38d4e58f45\n",
            "Successfully built transformers sacremoses\n",
            "Installing collected packages: tokenizers, sentencepiece, sacremoses, transformers\n",
            "Successfully installed sacremoses-0.0.43 sentencepiece-0.1.91 tokenizers-0.8.1rc2 transformers-3.1.0\n"
          ],
          "name": "stdout"
        }
      ]
    },
    {
      "cell_type": "code",
      "metadata": {
        "id": "qUQsUKmBxqdl"
      },
      "source": [
        "from transformers import GPT2Tokenizer, GPT2LMHeadModel"
      ],
      "execution_count": null,
      "outputs": []
    },
    {
      "cell_type": "code",
      "metadata": {
        "id": "LPGtlhByx3Gq",
        "outputId": "98888239-7452-4eb6-a96e-6d0a23ff544f",
        "colab": {
          "base_uri": "https://localhost:8080/",
          "height": 34
        }
      },
      "source": [
        "%cd drive/My\\ Drive/School\\ Work/Fourth\\ Year/Capstone\\ Everything"
      ],
      "execution_count": null,
      "outputs": [
        {
          "output_type": "stream",
          "text": [
            "/content/drive/My Drive/School Work/Fourth Year/Capstone Everything\n"
          ],
          "name": "stdout"
        }
      ]
    },
    {
      "cell_type": "code",
      "metadata": {
        "id": "YNl-CEExX7az"
      },
      "source": [
        ""
      ],
      "execution_count": null,
      "outputs": []
    },
    {
      "cell_type": "code",
      "metadata": {
        "id": "rxPgdkbkxyx3"
      },
      "source": [
        "def grab_random_prompts(data, numprompts, first_words=5, column='claims'):\n",
        "    '''\n",
        "    Inputs:\n",
        "    numprompts int: Number of prompts we would want\n",
        "    first_words int: How many first words would we want\n",
        "    '''\n",
        "    num_data = len(data)\n",
        "    prompts = []\n",
        "    while len(prompts) < numprompts:\n",
        "        row = np.random.randint(0, num_data-1)\n",
        "        try:\n",
        "            words = data[column][row].split()\n",
        "            firsts = \" \".join(words[:first_words])\n",
        "            prompts.append(firsts)\n",
        "        except:\n",
        "            #print(\"No claims\")\n",
        "            pass\n",
        "    \n",
        "#     for indx in rows:\n",
        "#         words = data[column][indx].split()\n",
        "#         firsts = \" \".join(words[:first_words])\n",
        "#         prompts.append(firsts)\n",
        "    return prompts\n",
        "\n",
        "OUTPUT_DIR = \"./Models/output\"\n",
        "device = 'cpu'\n",
        "if torch.cuda.is_available():\n",
        "    device = 'cuda'\n",
        "\n",
        "tokenizer = GPT2Tokenizer.from_pretrained(OUTPUT_DIR)\n",
        "model = GPT2LMHeadModel.from_pretrained(OUTPUT_DIR)\n",
        "model = model.to(device)\n",
        "def generate(input_str, length=250, n=5):\n",
        "    cur_ids = torch.tensor(tokenizer.encode(input_str)).unsqueeze(0).long().to(device)\n",
        "    model.eval()\n",
        "    with torch.no_grad():\n",
        "        for i in range(length):\n",
        "            outputs = model(cur_ids[:, -1024:], labels=cur_ids[:, -1024:])\n",
        "            loss, logits = outputs[:2]\n",
        "            softmax_logits = torch.softmax(logits[0,-1], dim=0)\n",
        "            next_token_id = choose_from_top(softmax_logits.to('cpu').numpy(), n=n)\n",
        "            cur_ids = torch.cat([cur_ids, torch.ones((1,1)).long().to(device) * next_token_id], dim=1)\n",
        "        output_list = list(cur_ids.squeeze().to('cpu').numpy())\n",
        "        output_text = tokenizer.decode(output_list)\n",
        "        return output_text\n",
        "\n",
        "def choose_from_top(probs, n=5):\n",
        "    ind = np.argpartition(probs, -n)[-n:]\n",
        "    top_prob = probs[ind]\n",
        "    top_prob = top_prob / np.sum(top_prob) # Normalize\n",
        "    choice = np.random.choice(n, 1, p = top_prob)\n",
        "    token_id = ind[choice][0]\n",
        "    return int(token_id)"
      ],
      "execution_count": null,
      "outputs": []
    },
    {
      "cell_type": "code",
      "metadata": {
        "id": "SBi7DtUqNbyt",
        "outputId": "136b24ee-bd88-4b9d-b1b9-58bf8f363b62",
        "colab": {
          "base_uri": "https://localhost:8080/",
          "height": 35
        }
      },
      "source": [
        "device"
      ],
      "execution_count": null,
      "outputs": [
        {
          "output_type": "execute_result",
          "data": {
            "application/vnd.google.colaboratory.intrinsic+json": {
              "type": "string"
            },
            "text/plain": [
              "'cuda'"
            ]
          },
          "metadata": {
            "tags": []
          },
          "execution_count": 7
        }
      ]
    },
    {
      "cell_type": "markdown",
      "metadata": {
        "id": "fV7-cajDylqy"
      },
      "source": [
        "## Load Real Data and Label Them\n"
      ]
    },
    {
      "cell_type": "code",
      "metadata": {
        "id": "v0gqCmIsyWSj"
      },
      "source": [
        "data = pd.read_csv(\"./Models/Data/H04L.csv\")\n",
        "real_data = pd.DataFrame({\"Claims\": data[\"claims\"]})\n",
        "real_data[\"Label\"] = 0\n",
        "real_data = real_data[real_data['Claims'].notnull()]"
      ],
      "execution_count": null,
      "outputs": []
    },
    {
      "cell_type": "code",
      "metadata": {
        "id": "QkG1eqtLyo5_",
        "outputId": "34e29ce6-698f-46d7-f7e3-400f6490bdf3",
        "colab": {
          "base_uri": "https://localhost:8080/",
          "height": 419
        }
      },
      "source": [
        "real_data"
      ],
      "execution_count": null,
      "outputs": [
        {
          "output_type": "execute_result",
          "data": {
            "text/html": [
              "<div>\n",
              "<style scoped>\n",
              "    .dataframe tbody tr th:only-of-type {\n",
              "        vertical-align: middle;\n",
              "    }\n",
              "\n",
              "    .dataframe tbody tr th {\n",
              "        vertical-align: top;\n",
              "    }\n",
              "\n",
              "    .dataframe thead th {\n",
              "        text-align: right;\n",
              "    }\n",
              "</style>\n",
              "<table border=\"1\" class=\"dataframe\">\n",
              "  <thead>\n",
              "    <tr style=\"text-align: right;\">\n",
              "      <th></th>\n",
              "      <th>Claims</th>\n",
              "      <th>Label</th>\n",
              "    </tr>\n",
              "  </thead>\n",
              "  <tbody>\n",
              "    <tr>\n",
              "      <th>0</th>\n",
              "      <td>1.  An organic light emitting diode display co...</td>\n",
              "      <td>0</td>\n",
              "    </tr>\n",
              "    <tr>\n",
              "      <th>1</th>\n",
              "      <td>1.  An electric element cooling module compris...</td>\n",
              "      <td>0</td>\n",
              "    </tr>\n",
              "    <tr>\n",
              "      <th>2</th>\n",
              "      <td>2.  The organic light emitting diode display o...</td>\n",
              "      <td>0</td>\n",
              "    </tr>\n",
              "    <tr>\n",
              "      <th>3</th>\n",
              "      <td>2.  The electric element cooling module of cla...</td>\n",
              "      <td>0</td>\n",
              "    </tr>\n",
              "    <tr>\n",
              "      <th>4</th>\n",
              "      <td>3.  The organic light emitting diode display o...</td>\n",
              "      <td>0</td>\n",
              "    </tr>\n",
              "    <tr>\n",
              "      <th>...</th>\n",
              "      <td>...</td>\n",
              "      <td>...</td>\n",
              "    </tr>\n",
              "    <tr>\n",
              "      <th>8941</th>\n",
              "      <td>2.  The method of claim 1, further comprising:...</td>\n",
              "      <td>0</td>\n",
              "    </tr>\n",
              "    <tr>\n",
              "      <th>8942</th>\n",
              "      <td>3.  The method of claim 1, wherein the first g...</td>\n",
              "      <td>0</td>\n",
              "    </tr>\n",
              "    <tr>\n",
              "      <th>8943</th>\n",
              "      <td>4.  The method of claim 1, wherein a width of ...</td>\n",
              "      <td>0</td>\n",
              "    </tr>\n",
              "    <tr>\n",
              "      <th>8944</th>\n",
              "      <td>5.  The method of claim 1, wherein a length of...</td>\n",
              "      <td>0</td>\n",
              "    </tr>\n",
              "    <tr>\n",
              "      <th>8945</th>\n",
              "      <td>6.  The method of claim 1, further comprising:...</td>\n",
              "      <td>0</td>\n",
              "    </tr>\n",
              "  </tbody>\n",
              "</table>\n",
              "<p>8420 rows × 2 columns</p>\n",
              "</div>"
            ],
            "text/plain": [
              "                                                 Claims  Label\n",
              "0     1.  An organic light emitting diode display co...      0\n",
              "1     1.  An electric element cooling module compris...      0\n",
              "2     2.  The organic light emitting diode display o...      0\n",
              "3     2.  The electric element cooling module of cla...      0\n",
              "4     3.  The organic light emitting diode display o...      0\n",
              "...                                                 ...    ...\n",
              "8941  2.  The method of claim 1, further comprising:...      0\n",
              "8942  3.  The method of claim 1, wherein the first g...      0\n",
              "8943  4.  The method of claim 1, wherein a width of ...      0\n",
              "8944  5.  The method of claim 1, wherein a length of...      0\n",
              "8945  6.  The method of claim 1, further comprising:...      0\n",
              "\n",
              "[8420 rows x 2 columns]"
            ]
          },
          "metadata": {
            "tags": []
          },
          "execution_count": 9
        }
      ]
    },
    {
      "cell_type": "markdown",
      "metadata": {
        "id": "I3YtHRR5yjHO"
      },
      "source": [
        "## Generate Fake Data and Label Them"
      ]
    },
    {
      "cell_type": "code",
      "metadata": {
        "id": "q67S3iqayWUJ"
      },
      "source": [
        "# How many fake claims do you want to generate\n",
        "# num_fake_claims = len(real_data)\n",
        "# prompts = grab_random_prompts(data, num_fake_claims, first_words=5)\n",
        "# fake_claims = []\n",
        "# for i, prompt in enumerate(prompts):\n",
        "#     print(f\"Generating Prompt {i+1} ... Prompt: {prompt}\")\n",
        "#     generated_text = generate(prompt, n=8)\n",
        "#     fake_claims.append(generated_text)\n",
        "  "
      ],
      "execution_count": null,
      "outputs": []
    },
    {
      "cell_type": "code",
      "metadata": {
        "id": "HqNWscC2RqHc",
        "outputId": "91f89156-5ea4-446a-d2da-b902b638614c",
        "colab": {
          "base_uri": "https://localhost:8080/",
          "height": 357
        }
      },
      "source": [
        "# write in chunks, and write to csv\n",
        "'''\n",
        "This code block is responsible for generating fake patent Claims\n",
        "I first deine the file paths where we will save the fake patent data\n",
        "Then, I generate the fake patent prompts by sampling from the real abstracts\n",
        "I save the prompts into a csv file.\n",
        "Since I am running the generation on Colab and I'm generating thousands of fake patent Claims,\n",
        "there is a high frequency of interuption, I therefore need to save the prompts (to be accessed later),\n",
        "and save the patent claims for every 100 that are generated.\n",
        "The last_interupted variable stores where the generation was last interupted.\n",
        "'''\n",
        "import os.path\n",
        "fake_data_file = \"Models/Data/real_fake_patent_claims/fake_patent_claims.csv\"\n",
        "prompt_file = \"Models/Data/real_fake_patent_claims/prompts.csv\"\n",
        "num_fake_claims = len(real_data)\n",
        "if os.path.exists(prompt_file):\n",
        "  prompts = pd.read_csv(prompt_file)\n",
        "  prompts = prompts['Prompts'].tolist()\n",
        "else:\n",
        "  prompts = grab_random_prompts(data, num_fake_claims, first_words=5)\n",
        "  # save prompts\n",
        "  prompt_df = pd.DataFrame({\"Prompts\": prompts})\n",
        "  prompt_df.to_csv(prompt_file)\n",
        "fake_claims = []\n",
        "last_interupted = 8400\n",
        "for i, prompt in enumerate(prompts[last_interupted:]): # modify last_interupted if we got disconnected\n",
        "    if i % 100 == 0 and i != 0: # for every 100 claims\n",
        "      df = pd.DataFrame({\"Claims\": fake_claims, \"Label\": 1})\n",
        "      if os.path.exists(fake_data_file): # this means this csv is already created\n",
        "        df.to_csv(fake_data_file, mode='a', header=False)\n",
        "      else:\n",
        "        df.to_csv(fake_data_file)\n",
        "      fake_claims = []\n",
        "    print(f\"Generating Prompt {i+1} ... Prompt: {prompt}\")\n",
        "    generated_text = generate(prompt, n=8)\n",
        "    fake_claims.append(generated_text)\n",
        "# last batch\n",
        "df = pd.DataFrame({\"Claims\": fake_claims, \"Label\": 1})\n",
        "df.to_csv(fake_data_file, mode='a', header=False)"
      ],
      "execution_count": null,
      "outputs": [
        {
          "output_type": "stream",
          "text": [
            "Generating Prompt 1 ... Prompt: 5. The display panel according\n",
            "Generating Prompt 2 ... Prompt: 35. The electrical circuit of\n",
            "Generating Prompt 3 ... Prompt: 2. The method of claim\n",
            "Generating Prompt 4 ... Prompt: 20. The emitter of claim\n",
            "Generating Prompt 5 ... Prompt: 3. The device according to\n",
            "Generating Prompt 6 ... Prompt: 31. The display apparatus according\n",
            "Generating Prompt 7 ... Prompt: 11. The organic light-emitting device\n",
            "Generating Prompt 8 ... Prompt: 9. An imprint lithography system,\n",
            "Generating Prompt 9 ... Prompt: 10. An unmanned aerial vehicle,\n",
            "Generating Prompt 10 ... Prompt: 3. The method for manufacturing\n",
            "Generating Prompt 11 ... Prompt: 23. A semiconductor die comprising:\n",
            "Generating Prompt 12 ... Prompt: 9. An anti-tamper system according\n",
            "Generating Prompt 13 ... Prompt: 3. The wafer level package\n",
            "Generating Prompt 14 ... Prompt: 17. The computing device of\n",
            "Generating Prompt 15 ... Prompt: 3. The organic electric element\n",
            "Generating Prompt 16 ... Prompt: 15. The method of fabricating\n",
            "Generating Prompt 17 ... Prompt: 5. The method of claim\n",
            "Generating Prompt 18 ... Prompt: 5. The adhesive composition sheet\n",
            "Generating Prompt 19 ... Prompt: 9. The UV light emitting\n",
            "Generating Prompt 20 ... Prompt: 6. The process according to\n"
          ],
          "name": "stdout"
        }
      ]
    },
    {
      "cell_type": "code",
      "metadata": {
        "id": "Eq4iQ0Awug2X"
      },
      "source": [
        ""
      ],
      "execution_count": null,
      "outputs": []
    },
    {
      "cell_type": "code",
      "metadata": {
        "id": "oxHIBMqa0LTF",
        "outputId": "a2e45429-5cc9-4d50-8ae4-9283d5be6807",
        "colab": {
          "base_uri": "https://localhost:8080/",
          "height": 204
        }
      },
      "source": [
        "fake_data = pd.read_csv(\"./Models/Data/real_fake_patent_claims/fake_patent_claims.csv\")\n",
        "fake_data = fake_data.loc[:, ~fake_data.columns.str.contains('^Unnamed')]\n",
        "fake_data.head()\n"
      ],
      "execution_count": null,
      "outputs": [
        {
          "output_type": "execute_result",
          "data": {
            "text/html": [
              "<div>\n",
              "<style scoped>\n",
              "    .dataframe tbody tr th:only-of-type {\n",
              "        vertical-align: middle;\n",
              "    }\n",
              "\n",
              "    .dataframe tbody tr th {\n",
              "        vertical-align: top;\n",
              "    }\n",
              "\n",
              "    .dataframe thead th {\n",
              "        text-align: right;\n",
              "    }\n",
              "</style>\n",
              "<table border=\"1\" class=\"dataframe\">\n",
              "  <thead>\n",
              "    <tr style=\"text-align: right;\">\n",
              "      <th></th>\n",
              "      <th>Claims</th>\n",
              "      <th>Label</th>\n",
              "    </tr>\n",
              "  </thead>\n",
              "  <tbody>\n",
              "    <tr>\n",
              "      <th>0</th>\n",
              "      <td>11. A substrate container comprising: (1) a   ...</td>\n",
              "      <td>1</td>\n",
              "    </tr>\n",
              "    <tr>\n",
              "      <th>1</th>\n",
              "      <td>20. The flexible display according to embodime...</td>\n",
              "      <td>1</td>\n",
              "    </tr>\n",
              "    <tr>\n",
              "      <th>2</th>\n",
              "      <td>20. The packaging method of the device       i...</td>\n",
              "      <td>1</td>\n",
              "    </tr>\n",
              "    <tr>\n",
              "      <th>3</th>\n",
              "      <td>3. The method of claim relates to a resin comp...</td>\n",
              "      <td>1</td>\n",
              "    </tr>\n",
              "    <tr>\n",
              "      <th>4</th>\n",
              "      <td>11. The package structure as a whole and the  ...</td>\n",
              "      <td>1</td>\n",
              "    </tr>\n",
              "  </tbody>\n",
              "</table>\n",
              "</div>"
            ],
            "text/plain": [
              "                                              Claims  Label\n",
              "0  11. A substrate container comprising: (1) a   ...      1\n",
              "1  20. The flexible display according to embodime...      1\n",
              "2  20. The packaging method of the device       i...      1\n",
              "3  3. The method of claim relates to a resin comp...      1\n",
              "4  11. The package structure as a whole and the  ...      1"
            ]
          },
          "metadata": {
            "tags": []
          },
          "execution_count": 17
        }
      ]
    },
    {
      "cell_type": "code",
      "metadata": {
        "id": "fL0hWzYc3zqR",
        "outputId": "83108721-ef66-4d74-f05d-8cb5b2c04da1",
        "colab": {
          "base_uri": "https://localhost:8080/",
          "height": 34
        }
      },
      "source": [
        "len(fake_data)"
      ],
      "execution_count": null,
      "outputs": [
        {
          "output_type": "execute_result",
          "data": {
            "text/plain": [
              "8420"
            ]
          },
          "metadata": {
            "tags": []
          },
          "execution_count": 18
        }
      ]
    },
    {
      "cell_type": "code",
      "metadata": {
        "id": "8aNZ4Qe00dBM"
      },
      "source": [
        "frames = [real_data, fake_data]\n",
        "full_data = pd.concat(frames)\n",
        "\n",
        "\n",
        "full_data = full_data.sample(frac=1).reset_index(drop=True)\n"
      ],
      "execution_count": null,
      "outputs": []
    },
    {
      "cell_type": "code",
      "metadata": {
        "id": "obHezGYo7Q2O",
        "outputId": "4375274c-cf60-452b-9e77-a66774982432",
        "colab": {
          "base_uri": "https://localhost:8080/",
          "height": 419
        }
      },
      "source": [
        "full_data\n"
      ],
      "execution_count": null,
      "outputs": [
        {
          "output_type": "execute_result",
          "data": {
            "text/html": [
              "<div>\n",
              "<style scoped>\n",
              "    .dataframe tbody tr th:only-of-type {\n",
              "        vertical-align: middle;\n",
              "    }\n",
              "\n",
              "    .dataframe tbody tr th {\n",
              "        vertical-align: top;\n",
              "    }\n",
              "\n",
              "    .dataframe thead th {\n",
              "        text-align: right;\n",
              "    }\n",
              "</style>\n",
              "<table border=\"1\" class=\"dataframe\">\n",
              "  <thead>\n",
              "    <tr style=\"text-align: right;\">\n",
              "      <th></th>\n",
              "      <th>Claims</th>\n",
              "      <th>Label</th>\n",
              "    </tr>\n",
              "  </thead>\n",
              "  <tbody>\n",
              "    <tr>\n",
              "      <th>0</th>\n",
              "      <td>9.  A supporting method performed by a support...</td>\n",
              "      <td>0</td>\n",
              "    </tr>\n",
              "    <tr>\n",
              "      <th>1</th>\n",
              "      <td>9. A pixel assembly according to one embodimen...</td>\n",
              "      <td>1</td>\n",
              "    </tr>\n",
              "    <tr>\n",
              "      <th>2</th>\n",
              "      <td>11.  The UV light emitting device of claim 1, ...</td>\n",
              "      <td>0</td>\n",
              "    </tr>\n",
              "    <tr>\n",
              "      <th>3</th>\n",
              "      <td>14.  The method of claim 13 wherein planarizin...</td>\n",
              "      <td>0</td>\n",
              "    </tr>\n",
              "    <tr>\n",
              "      <th>4</th>\n",
              "      <td>7.  The display apparatus of claim 1, wherein ...</td>\n",
              "      <td>0</td>\n",
              "    </tr>\n",
              "    <tr>\n",
              "      <th>...</th>\n",
              "      <td>...</td>\n",
              "      <td>...</td>\n",
              "    </tr>\n",
              "    <tr>\n",
              "      <th>16835</th>\n",
              "      <td>17. The method as claimed may comprise: provid...</td>\n",
              "      <td>1</td>\n",
              "    </tr>\n",
              "    <tr>\n",
              "      <th>16836</th>\n",
              "      <td>36.  The ASIC of claim 24, wherein: at least a...</td>\n",
              "      <td>0</td>\n",
              "    </tr>\n",
              "    <tr>\n",
              "      <th>16837</th>\n",
              "      <td>5. The electronic component mounting bracket a...</td>\n",
              "      <td>1</td>\n",
              "    </tr>\n",
              "    <tr>\n",
              "      <th>16838</th>\n",
              "      <td>9.  The vibration-type actuator according to c...</td>\n",
              "      <td>0</td>\n",
              "    </tr>\n",
              "    <tr>\n",
              "      <th>16839</th>\n",
              "      <td>16.  The chip package as claimed in claim 1, f...</td>\n",
              "      <td>0</td>\n",
              "    </tr>\n",
              "  </tbody>\n",
              "</table>\n",
              "<p>16840 rows × 2 columns</p>\n",
              "</div>"
            ],
            "text/plain": [
              "                                                  Claims  Label\n",
              "0      9.  A supporting method performed by a support...      0\n",
              "1      9. A pixel assembly according to one embodimen...      1\n",
              "2      11.  The UV light emitting device of claim 1, ...      0\n",
              "3      14.  The method of claim 13 wherein planarizin...      0\n",
              "4      7.  The display apparatus of claim 1, wherein ...      0\n",
              "...                                                  ...    ...\n",
              "16835  17. The method as claimed may comprise: provid...      1\n",
              "16836  36.  The ASIC of claim 24, wherein: at least a...      0\n",
              "16837  5. The electronic component mounting bracket a...      1\n",
              "16838  9.  The vibration-type actuator according to c...      0\n",
              "16839  16.  The chip package as claimed in claim 1, f...      0\n",
              "\n",
              "[16840 rows x 2 columns]"
            ]
          },
          "metadata": {
            "tags": []
          },
          "execution_count": 21
        }
      ]
    },
    {
      "cell_type": "code",
      "metadata": {
        "id": "742I2U_S7XKH"
      },
      "source": [
        "full_data.to_csv(\"./Models/Data/real_fake_patent_claims/real_fake_claims.csv\")"
      ],
      "execution_count": null,
      "outputs": []
    }
  ]
}