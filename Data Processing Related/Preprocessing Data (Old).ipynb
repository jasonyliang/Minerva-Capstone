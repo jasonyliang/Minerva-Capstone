{
 "cells": [
  {
   "cell_type": "code",
   "execution_count": 10,
   "metadata": {},
   "outputs": [],
   "source": [
    "import torch\n",
    "from torchtext import data\n",
    "from torchtext.data import Field, BucketIterator\n",
    "import numpy as np\n",
    "import pandas as pd\n",
    "import spacy\n"
   ]
  },
  {
   "cell_type": "code",
   "execution_count": 11,
   "metadata": {},
   "outputs": [
    {
     "data": {
      "text/html": [
       "<div>\n",
       "<style scoped>\n",
       "    .dataframe tbody tr th:only-of-type {\n",
       "        vertical-align: middle;\n",
       "    }\n",
       "\n",
       "    .dataframe tbody tr th {\n",
       "        vertical-align: top;\n",
       "    }\n",
       "\n",
       "    .dataframe thead th {\n",
       "        text-align: right;\n",
       "    }\n",
       "</style>\n",
       "<table border=\"1\" class=\"dataframe\">\n",
       "  <thead>\n",
       "    <tr style=\"text-align: right;\">\n",
       "      <th></th>\n",
       "      <th>uid</th>\n",
       "      <th>url</th>\n",
       "      <th>claims</th>\n",
       "      <th>abstract</th>\n",
       "      <th>description</th>\n",
       "      <th>collection_time</th>\n",
       "      <th>write_date</th>\n",
       "    </tr>\n",
       "  </thead>\n",
       "  <tbody>\n",
       "    <tr>\n",
       "      <th>0</th>\n",
       "      <td>10111</td>\n",
       "      <td>http://patft.uspto.gov//netacgi/nph-Parser?Sec...</td>\n",
       "      <td>9.  The wrist-watch according to claim 8, wher...</td>\n",
       "      <td>One embodiment of the present invention provid...</td>\n",
       "      <td>TECHNICAL FIELD  The present invention relate...</td>\n",
       "      <td>2020-08-03 08:59:43.554478</td>\n",
       "      <td>2020-08-03 08:59:43.486725</td>\n",
       "    </tr>\n",
       "    <tr>\n",
       "      <th>1</th>\n",
       "      <td>10088</td>\n",
       "      <td>http://patft.uspto.gov//netacgi/nph-Parser?Sec...</td>\n",
       "      <td>9.  The wrist-watch according to claim 8, wher...</td>\n",
       "      <td>One embodiment of the present invention provid...</td>\n",
       "      <td>TECHNICAL FIELD  The present invention relate...</td>\n",
       "      <td>2020-08-03 08:59:42.786863</td>\n",
       "      <td>2020-08-03 08:59:42.714765</td>\n",
       "    </tr>\n",
       "    <tr>\n",
       "      <th>2</th>\n",
       "      <td>713</td>\n",
       "      <td>http://patft.uspto.gov//netacgi/nph-Parser?Sec...</td>\n",
       "      <td>9.  The wiring layer laminate for a semiconduc...</td>\n",
       "      <td>One aspect of the present invention relates to...</td>\n",
       "      <td>CROSS-REFERENCE TO RELATED APPLICATIONS  This...</td>\n",
       "      <td>2020-03-03 05:39:31.535402</td>\n",
       "      <td>2020-03-02 18:39:31.455487</td>\n",
       "    </tr>\n",
       "    <tr>\n",
       "      <th>3</th>\n",
       "      <td>695</td>\n",
       "      <td>http://patft.uspto.gov//netacgi/nph-Parser?Sec...</td>\n",
       "      <td>9.  The wiring layer laminate for a semiconduc...</td>\n",
       "      <td>One aspect of the present invention relates to...</td>\n",
       "      <td>CROSS-REFERENCE TO RELATED APPLICATIONS  This...</td>\n",
       "      <td>2020-03-03 05:39:28.670518</td>\n",
       "      <td>2020-03-02 18:39:28.547115</td>\n",
       "    </tr>\n",
       "    <tr>\n",
       "      <th>4</th>\n",
       "      <td>13246</td>\n",
       "      <td>http://patft.uspto.gov//netacgi/nph-Parser?Sec...</td>\n",
       "      <td>9.  The wafer support structure as recited in ...</td>\n",
       "      <td>An Electrostatic Chuck (ESC) in a chamber of a...</td>\n",
       "      <td>BACKGROUND 1.  Field of the Invention  The pr...</td>\n",
       "      <td>2020-08-03 09:28:07.124295</td>\n",
       "      <td>2020-08-03 09:28:07.076907</td>\n",
       "    </tr>\n",
       "  </tbody>\n",
       "</table>\n",
       "</div>"
      ],
      "text/plain": [
       "     uid                                                url  \\\n",
       "0  10111  http://patft.uspto.gov//netacgi/nph-Parser?Sec...   \n",
       "1  10088  http://patft.uspto.gov//netacgi/nph-Parser?Sec...   \n",
       "2    713  http://patft.uspto.gov//netacgi/nph-Parser?Sec...   \n",
       "3    695  http://patft.uspto.gov//netacgi/nph-Parser?Sec...   \n",
       "4  13246  http://patft.uspto.gov//netacgi/nph-Parser?Sec...   \n",
       "\n",
       "                                              claims  \\\n",
       "0  9.  The wrist-watch according to claim 8, wher...   \n",
       "1  9.  The wrist-watch according to claim 8, wher...   \n",
       "2  9.  The wiring layer laminate for a semiconduc...   \n",
       "3  9.  The wiring layer laminate for a semiconduc...   \n",
       "4  9.  The wafer support structure as recited in ...   \n",
       "\n",
       "                                            abstract  \\\n",
       "0  One embodiment of the present invention provid...   \n",
       "1  One embodiment of the present invention provid...   \n",
       "2  One aspect of the present invention relates to...   \n",
       "3  One aspect of the present invention relates to...   \n",
       "4  An Electrostatic Chuck (ESC) in a chamber of a...   \n",
       "\n",
       "                                         description  \\\n",
       "0   TECHNICAL FIELD  The present invention relate...   \n",
       "1   TECHNICAL FIELD  The present invention relate...   \n",
       "2   CROSS-REFERENCE TO RELATED APPLICATIONS  This...   \n",
       "3   CROSS-REFERENCE TO RELATED APPLICATIONS  This...   \n",
       "4   BACKGROUND 1.  Field of the Invention  The pr...   \n",
       "\n",
       "              collection_time                  write_date  \n",
       "0  2020-08-03 08:59:43.554478  2020-08-03 08:59:43.486725  \n",
       "1  2020-08-03 08:59:42.786863  2020-08-03 08:59:42.714765  \n",
       "2  2020-03-03 05:39:31.535402  2020-03-02 18:39:31.455487  \n",
       "3  2020-03-03 05:39:28.670518  2020-03-02 18:39:28.547115  \n",
       "4  2020-08-03 09:28:07.124295  2020-08-03 09:28:07.076907  "
      ]
     },
     "execution_count": 11,
     "metadata": {},
     "output_type": "execute_result"
    }
   ],
   "source": [
    "patent_data = pd.read_csv('../H04L.csv')\n",
    "patent_data.head()"
   ]
  },
  {
   "cell_type": "code",
   "execution_count": 12,
   "metadata": {},
   "outputs": [],
   "source": [
    "# splitting dataset into train, validation and test \n",
    "# https://stackoverflow.com/questions/38250710/how-to-split-data-into-3-sets-train-validation-and-test\n",
    "def train_valid_test_split(data, train, valid):\n",
    "    '''\n",
    "    Takes dataset (pandas Dataframe) and ratio between train, validation and test set as input\n",
    "    Return split dataset\n",
    "    \n",
    "    '''\n",
    "    assert (train + valid) <= 1, \"Train, validation and test set proportion needs to add up to 1\"\n",
    "    train_d, validate_d, test_d = np.split(data.sample(frac=1), [int(train*len(data)), int((train+valid)*len(data))])\n",
    "    print(f\"Proportion: \\nTrain: {train*100}% \\nValidation: {valid*100}%\\nTest:{round(1-train-valid, 2)*100}%\")\n",
    "    print(f\"Total: \\nTrain: {len(train_d)} \\nValidation: {len(validate_d)}\\nTest:{len(test_d)}\")\n",
    "    return train_d, validate_d, test_d\n",
    "    "
   ]
  },
  {
   "cell_type": "code",
   "execution_count": 13,
   "metadata": {},
   "outputs": [
    {
     "name": "stdout",
     "output_type": "stream",
     "text": [
      "Proportion: \n",
      "Train: 70.0% \n",
      "Validation: 20.0%\n",
      "Test:10.0%\n",
      "Total: \n",
      "Train: 12812 \n",
      "Validation: 3661\n",
      "Test:1831\n"
     ]
    }
   ],
   "source": [
    "train_data, validate_data, test_data = train_valid_test_split(patent_data, 0.7, 0.2)"
   ]
  },
  {
   "cell_type": "code",
   "execution_count": 16,
   "metadata": {},
   "outputs": [],
   "source": [
    "data_path = \"../processed_datasets\"\n",
    "train_data.to_csv(data_path+'/train.csv')\n",
    "validate_data.to_csv(data_path+'/validate.csv')\n",
    "test_data.to_csv(data_path+'/test.csv')"
   ]
  },
  {
   "cell_type": "code",
   "execution_count": 6,
   "metadata": {},
   "outputs": [],
   "source": [
    "spacy_eng = spacy.load('en')"
   ]
  },
  {
   "cell_type": "code",
   "execution_count": 7,
   "metadata": {},
   "outputs": [],
   "source": [
    "def tokenizer_eng(text):\n",
    "    return [tok.text for tok in spacy_eng.tokenizer(text)]"
   ]
  },
  {
   "cell_type": "code",
   "execution_count": 8,
   "metadata": {},
   "outputs": [],
   "source": [
    "abstract = Field(tokenize=tokenizer_eng, \n",
    "               lower=True, init_token='<sos>', eos_token='<eos>')\n",
    "claims = Field(tokenize=tokenizer_eng, \n",
    "               lower=True, init_token='<sos>', eos_token='<eos>')"
   ]
  },
  {
   "cell_type": "code",
   "execution_count": null,
   "metadata": {},
   "outputs": [],
   "source": []
  }
 ],
 "metadata": {
  "kernelspec": {
   "display_name": "Python 3",
   "language": "python",
   "name": "python3"
  },
  "language_info": {
   "codemirror_mode": {
    "name": "ipython",
    "version": 3
   },
   "file_extension": ".py",
   "mimetype": "text/x-python",
   "name": "python",
   "nbconvert_exporter": "python",
   "pygments_lexer": "ipython3",
   "version": "3.6.5"
  }
 },
 "nbformat": 4,
 "nbformat_minor": 2
}
