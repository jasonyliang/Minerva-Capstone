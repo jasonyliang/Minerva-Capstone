{
 "cells": [
  {
   "cell_type": "code",
   "execution_count": 1,
   "metadata": {},
   "outputs": [],
   "source": [
    "import torch\n",
    "from torchtext import data\n",
    "from torchtext.data import Field, BucketIterator\n",
    "import numpy as np\n",
    "import pandas as pd\n",
    "import spacy\n"
   ]
  },
  {
   "cell_type": "code",
   "execution_count": 3,
   "metadata": {},
   "outputs": [
    {
     "data": {
      "text/html": [
       "<div>\n",
       "<style scoped>\n",
       "    .dataframe tbody tr th:only-of-type {\n",
       "        vertical-align: middle;\n",
       "    }\n",
       "\n",
       "    .dataframe tbody tr th {\n",
       "        vertical-align: top;\n",
       "    }\n",
       "\n",
       "    .dataframe thead th {\n",
       "        text-align: right;\n",
       "    }\n",
       "</style>\n",
       "<table border=\"1\" class=\"dataframe\">\n",
       "  <thead>\n",
       "    <tr style=\"text-align: right;\">\n",
       "      <th></th>\n",
       "      <th>uid</th>\n",
       "      <th>url</th>\n",
       "      <th>claims</th>\n",
       "      <th>abstract</th>\n",
       "      <th>description</th>\n",
       "      <th>collection_time</th>\n",
       "      <th>write_date</th>\n",
       "    </tr>\n",
       "  </thead>\n",
       "  <tbody>\n",
       "    <tr>\n",
       "      <th>0</th>\n",
       "      <td>1</td>\n",
       "      <td>http://patft.uspto.gov//netacgi/nph-Parser?Sec...</td>\n",
       "      <td>1.  An organic light emitting diode display co...</td>\n",
       "      <td>An organic light emitting diode display includ...</td>\n",
       "      <td>This application claims priority to Korean P...</td>\n",
       "      <td>2020-03-03 05:37:01.550764</td>\n",
       "      <td>2020-03-02 18:37:01.547157</td>\n",
       "    </tr>\n",
       "    <tr>\n",
       "      <th>1</th>\n",
       "      <td>2</td>\n",
       "      <td>http://patft.uspto.gov//netacgi/nph-Parser?Sec...</td>\n",
       "      <td>1.  An electric element cooling module compris...</td>\n",
       "      <td>Provided is an electric element cooling module...</td>\n",
       "      <td>CROSS-REFERENCE TO RELATED APPLICATIONS  This...</td>\n",
       "      <td>2020-03-03 05:37:01.550849</td>\n",
       "      <td>2020-03-02 18:37:01.547352</td>\n",
       "    </tr>\n",
       "    <tr>\n",
       "      <th>2</th>\n",
       "      <td>3</td>\n",
       "      <td>http://patft.uspto.gov//netacgi/nph-Parser?Sec...</td>\n",
       "      <td>2.  The organic light emitting diode display o...</td>\n",
       "      <td>An organic light emitting diode display includ...</td>\n",
       "      <td>This application claims priority to Korean P...</td>\n",
       "      <td>2020-03-03 05:37:01.603471</td>\n",
       "      <td>2020-03-02 18:37:01.548018</td>\n",
       "    </tr>\n",
       "    <tr>\n",
       "      <th>3</th>\n",
       "      <td>4</td>\n",
       "      <td>http://patft.uspto.gov//netacgi/nph-Parser?Sec...</td>\n",
       "      <td>2.  The electric element cooling module of cla...</td>\n",
       "      <td>Provided is an electric element cooling module...</td>\n",
       "      <td>CROSS-REFERENCE TO RELATED APPLICATIONS  This...</td>\n",
       "      <td>2020-03-03 05:37:01.604237</td>\n",
       "      <td>2020-03-02 18:37:01.548179</td>\n",
       "    </tr>\n",
       "    <tr>\n",
       "      <th>4</th>\n",
       "      <td>5</td>\n",
       "      <td>http://patft.uspto.gov//netacgi/nph-Parser?Sec...</td>\n",
       "      <td>3.  The organic light emitting diode display o...</td>\n",
       "      <td>An organic light emitting diode display includ...</td>\n",
       "      <td>This application claims priority to Korean P...</td>\n",
       "      <td>2020-03-03 05:37:01.607406</td>\n",
       "      <td>2020-03-02 18:37:01.548057</td>\n",
       "    </tr>\n",
       "  </tbody>\n",
       "</table>\n",
       "</div>"
      ],
      "text/plain": [
       "   uid                                                url  \\\n",
       "0    1  http://patft.uspto.gov//netacgi/nph-Parser?Sec...   \n",
       "1    2  http://patft.uspto.gov//netacgi/nph-Parser?Sec...   \n",
       "2    3  http://patft.uspto.gov//netacgi/nph-Parser?Sec...   \n",
       "3    4  http://patft.uspto.gov//netacgi/nph-Parser?Sec...   \n",
       "4    5  http://patft.uspto.gov//netacgi/nph-Parser?Sec...   \n",
       "\n",
       "                                              claims  \\\n",
       "0  1.  An organic light emitting diode display co...   \n",
       "1  1.  An electric element cooling module compris...   \n",
       "2  2.  The organic light emitting diode display o...   \n",
       "3  2.  The electric element cooling module of cla...   \n",
       "4  3.  The organic light emitting diode display o...   \n",
       "\n",
       "                                            abstract  \\\n",
       "0  An organic light emitting diode display includ...   \n",
       "1  Provided is an electric element cooling module...   \n",
       "2  An organic light emitting diode display includ...   \n",
       "3  Provided is an electric element cooling module...   \n",
       "4  An organic light emitting diode display includ...   \n",
       "\n",
       "                                         description  \\\n",
       "0    This application claims priority to Korean P...   \n",
       "1   CROSS-REFERENCE TO RELATED APPLICATIONS  This...   \n",
       "2    This application claims priority to Korean P...   \n",
       "3   CROSS-REFERENCE TO RELATED APPLICATIONS  This...   \n",
       "4    This application claims priority to Korean P...   \n",
       "\n",
       "              collection_time                  write_date  \n",
       "0  2020-03-03 05:37:01.550764  2020-03-02 18:37:01.547157  \n",
       "1  2020-03-03 05:37:01.550849  2020-03-02 18:37:01.547352  \n",
       "2  2020-03-03 05:37:01.603471  2020-03-02 18:37:01.548018  \n",
       "3  2020-03-03 05:37:01.604237  2020-03-02 18:37:01.548179  \n",
       "4  2020-03-03 05:37:01.607406  2020-03-02 18:37:01.548057  "
      ]
     },
     "execution_count": 3,
     "metadata": {},
     "output_type": "execute_result"
    }
   ],
   "source": [
    "patent_data = pd.read_csv('../H01L.csv')\n",
    "patent_data.head()"
   ]
  },
  {
   "cell_type": "code",
   "execution_count": 4,
   "metadata": {},
   "outputs": [],
   "source": [
    "# splitting dataset into train, validation and test \n",
    "# https://stackoverflow.com/questions/38250710/how-to-split-data-into-3-sets-train-validation-and-test\n",
    "def train_valid_test_split(data, train, valid):\n",
    "    '''\n",
    "    Takes dataset (pandas Dataframe) and ratio between train, validation and test set as input\n",
    "    Return split dataset\n",
    "    \n",
    "    '''\n",
    "    assert (train + valid) <= 1, \"Train, validation and test set proportion needs to add up to 1\"\n",
    "    train_d, validate_d, test_d = np.split(data.sample(frac=1), [int(train*len(data)), int((train+valid)*len(data))])\n",
    "    print(f\"Proportion: \\nTrain: {train*100}% \\nValidation: {valid*100}%\\nTest:{round(1-train-valid, 2)*100}%\")\n",
    "    print(f\"Total: \\nTrain: {len(train_d)} \\nValidation: {len(validate_d)}\\nTest:{len(test_d)}\")\n",
    "    \n",
    "    "
   ]
  },
  {
   "cell_type": "code",
   "execution_count": 5,
   "metadata": {},
   "outputs": [
    {
     "name": "stdout",
     "output_type": "stream",
     "text": [
      "Proportion: \n",
      "Train: 50.0% \n",
      "Validation: 40.0%\n",
      "Test:10.0%\n",
      "Total: \n",
      "Train: 4473 \n",
      "Validation: 3579\n",
      "Test:895\n"
     ]
    }
   ],
   "source": [
    "train_valid_test_split(patent_data, 0.5, 0.4)"
   ]
  },
  {
   "cell_type": "code",
   "execution_count": 6,
   "metadata": {},
   "outputs": [],
   "source": [
    "spacy_eng = spacy.load('en')"
   ]
  },
  {
   "cell_type": "code",
   "execution_count": null,
   "metadata": {},
   "outputs": [],
   "source": []
  },
  {
   "cell_type": "code",
   "execution_count": null,
   "metadata": {},
   "outputs": [],
   "source": []
  }
 ],
 "metadata": {
  "kernelspec": {
   "display_name": "Python 3",
   "language": "python",
   "name": "python3"
  },
  "language_info": {
   "codemirror_mode": {
    "name": "ipython",
    "version": 3
   },
   "file_extension": ".py",
   "mimetype": "text/x-python",
   "name": "python",
   "nbconvert_exporter": "python",
   "pygments_lexer": "ipython3",
   "version": "3.6.5"
  }
 },
 "nbformat": 4,
 "nbformat_minor": 2
}
