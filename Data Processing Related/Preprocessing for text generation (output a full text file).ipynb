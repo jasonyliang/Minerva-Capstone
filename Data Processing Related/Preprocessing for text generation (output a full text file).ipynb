{
 "cells": [
  {
   "cell_type": "code",
   "execution_count": 1,
   "metadata": {},
   "outputs": [],
   "source": [
    "import numpy as np\n",
    "import pandas as pd"
   ]
  },
  {
   "cell_type": "code",
   "execution_count": 2,
   "metadata": {},
   "outputs": [
    {
     "data": {
      "text/html": [
       "<div>\n",
       "<style scoped>\n",
       "    .dataframe tbody tr th:only-of-type {\n",
       "        vertical-align: middle;\n",
       "    }\n",
       "\n",
       "    .dataframe tbody tr th {\n",
       "        vertical-align: top;\n",
       "    }\n",
       "\n",
       "    .dataframe thead th {\n",
       "        text-align: right;\n",
       "    }\n",
       "</style>\n",
       "<table border=\"1\" class=\"dataframe\">\n",
       "  <thead>\n",
       "    <tr style=\"text-align: right;\">\n",
       "      <th></th>\n",
       "      <th>uid</th>\n",
       "      <th>url</th>\n",
       "      <th>claims</th>\n",
       "      <th>abstract</th>\n",
       "      <th>description</th>\n",
       "      <th>collection_time</th>\n",
       "      <th>write_date</th>\n",
       "    </tr>\n",
       "  </thead>\n",
       "  <tbody>\n",
       "    <tr>\n",
       "      <th>0</th>\n",
       "      <td>1</td>\n",
       "      <td>http://patft.uspto.gov//netacgi/nph-Parser?Sec...</td>\n",
       "      <td>1.  An organic light emitting diode display co...</td>\n",
       "      <td>An organic light emitting diode display includ...</td>\n",
       "      <td>This application claims priority to Korean P...</td>\n",
       "      <td>2020-03-03 05:37:01.550764</td>\n",
       "      <td>2020-03-02 18:37:01.547157</td>\n",
       "    </tr>\n",
       "    <tr>\n",
       "      <th>1</th>\n",
       "      <td>2</td>\n",
       "      <td>http://patft.uspto.gov//netacgi/nph-Parser?Sec...</td>\n",
       "      <td>1.  An electric element cooling module compris...</td>\n",
       "      <td>Provided is an electric element cooling module...</td>\n",
       "      <td>CROSS-REFERENCE TO RELATED APPLICATIONS  This...</td>\n",
       "      <td>2020-03-03 05:37:01.550849</td>\n",
       "      <td>2020-03-02 18:37:01.547352</td>\n",
       "    </tr>\n",
       "    <tr>\n",
       "      <th>2</th>\n",
       "      <td>3</td>\n",
       "      <td>http://patft.uspto.gov//netacgi/nph-Parser?Sec...</td>\n",
       "      <td>2.  The organic light emitting diode display o...</td>\n",
       "      <td>An organic light emitting diode display includ...</td>\n",
       "      <td>This application claims priority to Korean P...</td>\n",
       "      <td>2020-03-03 05:37:01.603471</td>\n",
       "      <td>2020-03-02 18:37:01.548018</td>\n",
       "    </tr>\n",
       "    <tr>\n",
       "      <th>3</th>\n",
       "      <td>4</td>\n",
       "      <td>http://patft.uspto.gov//netacgi/nph-Parser?Sec...</td>\n",
       "      <td>2.  The electric element cooling module of cla...</td>\n",
       "      <td>Provided is an electric element cooling module...</td>\n",
       "      <td>CROSS-REFERENCE TO RELATED APPLICATIONS  This...</td>\n",
       "      <td>2020-03-03 05:37:01.604237</td>\n",
       "      <td>2020-03-02 18:37:01.548179</td>\n",
       "    </tr>\n",
       "    <tr>\n",
       "      <th>4</th>\n",
       "      <td>5</td>\n",
       "      <td>http://patft.uspto.gov//netacgi/nph-Parser?Sec...</td>\n",
       "      <td>3.  The organic light emitting diode display o...</td>\n",
       "      <td>An organic light emitting diode display includ...</td>\n",
       "      <td>This application claims priority to Korean P...</td>\n",
       "      <td>2020-03-03 05:37:01.607406</td>\n",
       "      <td>2020-03-02 18:37:01.548057</td>\n",
       "    </tr>\n",
       "  </tbody>\n",
       "</table>\n",
       "</div>"
      ],
      "text/plain": [
       "   uid                                                url  \\\n",
       "0    1  http://patft.uspto.gov//netacgi/nph-Parser?Sec...   \n",
       "1    2  http://patft.uspto.gov//netacgi/nph-Parser?Sec...   \n",
       "2    3  http://patft.uspto.gov//netacgi/nph-Parser?Sec...   \n",
       "3    4  http://patft.uspto.gov//netacgi/nph-Parser?Sec...   \n",
       "4    5  http://patft.uspto.gov//netacgi/nph-Parser?Sec...   \n",
       "\n",
       "                                              claims  \\\n",
       "0  1.  An organic light emitting diode display co...   \n",
       "1  1.  An electric element cooling module compris...   \n",
       "2  2.  The organic light emitting diode display o...   \n",
       "3  2.  The electric element cooling module of cla...   \n",
       "4  3.  The organic light emitting diode display o...   \n",
       "\n",
       "                                            abstract  \\\n",
       "0  An organic light emitting diode display includ...   \n",
       "1  Provided is an electric element cooling module...   \n",
       "2  An organic light emitting diode display includ...   \n",
       "3  Provided is an electric element cooling module...   \n",
       "4  An organic light emitting diode display includ...   \n",
       "\n",
       "                                         description  \\\n",
       "0    This application claims priority to Korean P...   \n",
       "1   CROSS-REFERENCE TO RELATED APPLICATIONS  This...   \n",
       "2    This application claims priority to Korean P...   \n",
       "3   CROSS-REFERENCE TO RELATED APPLICATIONS  This...   \n",
       "4    This application claims priority to Korean P...   \n",
       "\n",
       "              collection_time                  write_date  \n",
       "0  2020-03-03 05:37:01.550764  2020-03-02 18:37:01.547157  \n",
       "1  2020-03-03 05:37:01.550849  2020-03-02 18:37:01.547352  \n",
       "2  2020-03-03 05:37:01.603471  2020-03-02 18:37:01.548018  \n",
       "3  2020-03-03 05:37:01.604237  2020-03-02 18:37:01.548179  \n",
       "4  2020-03-03 05:37:01.607406  2020-03-02 18:37:01.548057  "
      ]
     },
     "execution_count": 2,
     "metadata": {},
     "output_type": "execute_result"
    }
   ],
   "source": [
    "patent_data = pd.read_csv('../H01L.csv')\n",
    "patent_data.head()"
   ]
  },
  {
   "cell_type": "code",
   "execution_count": 25,
   "metadata": {},
   "outputs": [],
   "source": [
    "# for claim in patent_data['claims']:    \n",
    "#     if str(claim) != 'nan':\n",
    "        \n",
    "    "
   ]
  },
  {
   "cell_type": "code",
   "execution_count": 22,
   "metadata": {},
   "outputs": [
    {
     "data": {
      "text/plain": [
       "True"
      ]
     },
     "execution_count": 22,
     "metadata": {},
     "output_type": "execute_result"
    }
   ],
   "source": [
    "str(patent_data['claims'][23]) == 'nan'"
   ]
  },
  {
   "cell_type": "code",
   "execution_count": 38,
   "metadata": {},
   "outputs": [],
   "source": [
    "claims = patent_data['claims'].astype(str)\n",
    "claims = claims[claims != 'nan']"
   ]
  },
  {
   "cell_type": "code",
   "execution_count": 46,
   "metadata": {},
   "outputs": [],
   "source": [
    "file_content = \"\"\n",
    "for claim in claims:\n",
    "    file_content += claim"
   ]
  },
  {
   "cell_type": "code",
   "execution_count": 47,
   "metadata": {},
   "outputs": [],
   "source": [
    "\n",
    "tfile = open('claims_text.txt', 'a')\n",
    "tfile.write(file_content)\n",
    "tfile.close()"
   ]
  },
  {
   "cell_type": "code",
   "execution_count": 43,
   "metadata": {},
   "outputs": [
    {
     "data": {
      "text/plain": [
       "0       1.  An organic light emitting diode display co...\n",
       "1       1.  An electric element cooling module compris...\n",
       "2       2.  The organic light emitting diode display o...\n",
       "3       2.  The electric element cooling module of cla...\n",
       "4       3.  The organic light emitting diode display o...\n",
       "5       3.  The electric element cooling module of cla...\n",
       "6       4.  The organic light emitting diode display o...\n",
       "7       4.  An electric element cooling module compris...\n",
       "8       5.  The organic light emitting diode display o...\n",
       "9       5.  The electric element cooling module of cla...\n",
       "10      6.  The organic light emitting diode display o...\n",
       "11      6.  The electric element cooling module of cla...\n",
       "12      7.  The organic light emitting diode display o...\n",
       "13      7.  An electric element cooling module compris...\n",
       "14      8.  The organic light emitting diode display o...\n",
       "15      8.  The electric element cooling module of cla...\n",
       "16      9.  The organic light emitting diode display o...\n",
       "17      9.  The electric element cooling module of cla...\n",
       "18      10.  The organic light emitting diode display ...\n",
       "19      10.  An electric element cooling module compri...\n",
       "20      11.  The organic light emitting diode display ...\n",
       "21      11.  An electric element cooling module compri...\n",
       "22      12.  The organic light emitting diode display ...\n",
       "25      1.  An organic light emitting diode display co...\n",
       "26      2.  The organic light emitting diode display o...\n",
       "27      3.  The organic light emitting diode display o...\n",
       "28      4.  The organic light emitting diode display o...\n",
       "29      5.  The organic light emitting diode display o...\n",
       "30      6.  The organic light emitting diode display o...\n",
       "31      7.  The organic light emitting diode display o...\n",
       "                              ...                        \n",
       "8914    14.  An organic electronic device as claimed i...\n",
       "8915    15.  An organic electronic device as claimed i...\n",
       "8916    16.  An organic electronic device as claimed i...\n",
       "8917    17.  An organic electronic device as claimed i...\n",
       "8918    18.  An organic electronic device as claimed i...\n",
       "8919    19.  A sensor or display comprising the organi...\n",
       "8921    1.  A display panel, comprising a plurality of...\n",
       "8922    2.  The display panel of claim 1, wherein, eac...\n",
       "8923    3.  The display panel of claim 2, wherein, the...\n",
       "8924    4.  The display panel of claim 3, wherein, eac...\n",
       "8925    5.  The display panel of claim 4, wherein, til...\n",
       "8926    6.  The display panel of claim 3, wherein, the...\n",
       "8927    7.  The display panel of claim 6, wherein, the...\n",
       "8928    8.  The display panel of claim 2, wherein, a c...\n",
       "8929    9.  The display panel of claim 8, wherein, the...\n",
       "8930    10.  A display apparatus, comprising the displ...\n",
       "8931    11.  A display apparatus, comprising the displ...\n",
       "8932    12.  A display apparatus, comprising the displ...\n",
       "8933    13.  A display apparatus, comprising the displ...\n",
       "8934    14.  A display apparatus, comprising the displ...\n",
       "8935    15.  A display apparatus, comprising the displ...\n",
       "8936    16.  A display apparatus, comprising the displ...\n",
       "8937    17.  A display apparatus, comprising the displ...\n",
       "8938    18.  A display apparatus, comprising the displ...\n",
       "8940    1.  A method comprising: forming a first patte...\n",
       "8941    2.  The method of claim 1, further comprising:...\n",
       "8942    3.  The method of claim 1, wherein the first g...\n",
       "8943    4.  The method of claim 1, wherein a width of ...\n",
       "8944    5.  The method of claim 1, wherein a length of...\n",
       "8945    6.  The method of claim 1, further comprising:...\n",
       "Name: claims, Length: 8420, dtype: object"
      ]
     },
     "execution_count": 43,
     "metadata": {},
     "output_type": "execute_result"
    }
   ],
   "source": [
    "claims"
   ]
  },
  {
   "cell_type": "code",
   "execution_count": 44,
   "metadata": {},
   "outputs": [
    {
     "data": {
      "text/plain": [
       "'1.  An electric element cooling module comprising: a cooling flow passage portion formed to allow a cooling fluid to flow therein;  a header tank including a first header tank coupled to one end of the cooling flow passage portion and a second header tank coupled to the other end of the cooling flow passage portion and disposed above the first header tank;  and a heat exchanger for cooling an electric element including an entrance pipe including an inlet pipe formed in the header tank to introduce the cooling fluid and an outlet pipe configured to discharge the cooling fluid, wherein the cooling flow passage portions are bent at predetermined points and adhered to opposite surfaces of an electric element disposed between surfaces of the cooling flow passage portions, which face each other, and are arranged in two lines to be spaced apart from each other in a width direction, wherein the cooling flow passage portions are formed in such a way that an interval between the cooling flow passage portions in a width direction is greater than the sum of lengths of terminals installed inside the electric element in a width direction, wherein the electric element cooling module further comprises a lower housing disposed on a lower surface of the heat exchanger for cooling the electric element, and a first fix bracket fixedly coupled to any one selected from the first header tank or the second header tank and the lower housing, and wherein an interval in the width direction between the terminals in one of the two lines and in the other two lines is less than a diameter of the inlet pipe.'"
      ]
     },
     "execution_count": 44,
     "metadata": {},
     "output_type": "execute_result"
    }
   ],
   "source": [
    "claims[1]"
   ]
  },
  {
   "cell_type": "code",
   "execution_count": null,
   "metadata": {},
   "outputs": [],
   "source": []
  }
 ],
 "metadata": {
  "kernelspec": {
   "display_name": "Python 3",
   "language": "python",
   "name": "python3"
  },
  "language_info": {
   "codemirror_mode": {
    "name": "ipython",
    "version": 3
   },
   "file_extension": ".py",
   "mimetype": "text/x-python",
   "name": "python",
   "nbconvert_exporter": "python",
   "pygments_lexer": "ipython3",
   "version": "3.6.5"
  }
 },
 "nbformat": 4,
 "nbformat_minor": 2
}
